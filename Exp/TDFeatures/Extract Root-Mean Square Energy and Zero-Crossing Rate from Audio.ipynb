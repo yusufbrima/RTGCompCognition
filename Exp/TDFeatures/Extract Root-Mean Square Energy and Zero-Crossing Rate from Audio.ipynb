{
 "cells": [
  {
   "cell_type": "code",
   "execution_count": null,
   "id": "94b541f1-2b45-4426-8f83-6e54b9c1a88e",
   "metadata": {},
   "outputs": [],
   "source": [
    "import librosa\n",
    "import librosa.display\n",
    "import IPython.display as ipd\n",
    "import matplotlib.pyplot as plt\n",
    "import numpy as np\n",
    "import os"
   ]
  },
  {
   "cell_type": "markdown",
   "id": "014cbf50-2f89-499d-80d8-c6e3cd2ff7d5",
   "metadata": {},
   "source": [
    "## Extract Root-Mean Square Energy and Zero-Crossing Rate from Audio"
   ]
  },
  {
   "cell_type": "code",
   "execution_count": null,
   "id": "1b9ff9f2-fc44-418b-b1be-145ffc3b6d92",
   "metadata": {},
   "outputs": [],
   "source": [
    "figpath =  os.path.join(os.getcwd(),\"figures\")"
   ]
  },
  {
   "cell_type": "code",
   "execution_count": null,
   "id": "12e7ac31-9ae3-4253-8cf5-049df2abe036",
   "metadata": {},
   "outputs": [],
   "source": [
    "filename = librosa.example(\"nutcracker\")"
   ]
  },
  {
   "cell_type": "code",
   "execution_count": null,
   "id": "07e09c4f-79af-4e40-baec-b0558de24c71",
   "metadata": {},
   "outputs": [],
   "source": [
    "y,sr  =  librosa.load(filename)"
   ]
  },
  {
   "cell_type": "code",
   "execution_count": null,
   "id": "4b9cf33c-1989-4b9b-a31d-085983cac426",
   "metadata": {},
   "outputs": [],
   "source": [
    "ipd.Audio(filename)"
   ]
  },
  {
   "cell_type": "code",
   "execution_count": null,
   "id": "c218fb04-779c-4da4-afc1-22594cf68017",
   "metadata": {},
   "outputs": [],
   "source": [
    "# Extract RMSE with librosa\n",
    "\n",
    "\n",
    "FRAME_LENGHT =  1024\n",
    "HOP_LENGTH =  512\n",
    "\n",
    "rms_y =  librosa.feature.rms(y,frame_length=FRAME_LENGHT,hop_length=HOP_LENGTH)[0]"
   ]
  },
  {
   "cell_type": "code",
   "execution_count": null,
   "id": "a28347bc-0b6a-4f91-870b-e42e697703b8",
   "metadata": {},
   "outputs": [],
   "source": [
    "rms_y"
   ]
  },
  {
   "cell_type": "code",
   "execution_count": null,
   "id": "5a08b1f9-4208-444d-9e60-66b323d2fde7",
   "metadata": {},
   "outputs": [],
   "source": [
    "rms_y.shape"
   ]
  },
  {
   "cell_type": "code",
   "execution_count": null,
   "id": "47387a21-1707-49a1-96f4-3a7fa9288212",
   "metadata": {},
   "outputs": [],
   "source": [
    "# Next we want to visualize the rmse for the  audio wave \n",
    "frames =  range(0,rms_y.size)\n",
    "t  = librosa.frames_to_time(frames,hop_length=HOP_LENGTH)\n",
    "plt.figure(1,figsize=(14,4),dpi=100)\n",
    "librosa.display.waveplot(y,alpha=0.5)\n",
    "plt.plot(t,rms_y,color=\"r\")\n",
    "plt.title(\"RMSE Feature Extration\")\n",
    "plt.savefig(f'{figpath}/RMSE.pdf', dpi=300)\n",
    "plt.legend([\"RMSE\",\"Waveform\"])\n",
    "plt.show()\n"
   ]
  },
  {
   "cell_type": "code",
   "execution_count": null,
   "id": "585ad3ba-60ac-4ab4-82fa-1f9a88076dca",
   "metadata": {},
   "outputs": [],
   "source": [
    "y.shape"
   ]
  },
  {
   "cell_type": "code",
   "execution_count": null,
   "id": "c749fcbb-f783-422c-9f52-9c72c1d94831",
   "metadata": {},
   "outputs": [],
   "source": [
    "rms_y.shape"
   ]
  },
  {
   "cell_type": "markdown",
   "id": "4fb330c6-fb40-4f4c-b314-841520230161",
   "metadata": {},
   "source": [
    "$$\n",
    " \\text{RMS}_t = \\sqrt{\\frac{1}{K}  \\sum_{k = t \\cdot K}^{(t+1) \\cdot K-1} s(k)^2   }\n",
    "$$"
   ]
  },
  {
   "cell_type": "code",
   "execution_count": null,
   "id": "1775015a-6448-4533-a59e-fb04677fd3c2",
   "metadata": {},
   "outputs": [],
   "source": [
    "# building rmse from first principles\n",
    "\n",
    "def rms(signal,frame_length,hop_length):\n",
    "    rms = []\n",
    "    for i in range(0,signal.size,hop_length):\n",
    "        current_rms =  np.sqrt(np.sum(signal[i:i+frame_length]**2 ) / frame_length)\n",
    "        rms.append(current_rms)\n",
    "    return np.array(rms)"
   ]
  },
  {
   "cell_type": "code",
   "execution_count": null,
   "id": "79c21323-feb4-4ab1-bdcb-3c225397e2c8",
   "metadata": {},
   "outputs": [],
   "source": [
    "p_rms  =  rms(y,FRAME_LENGHT,HOP_LENGTH)\n",
    "p_rms.size"
   ]
  },
  {
   "cell_type": "code",
   "execution_count": null,
   "id": "42538b61-a4fe-4045-a79a-160ca8eaebea",
   "metadata": {},
   "outputs": [],
   "source": [
    "plt.figure(1,figsize=(14,4),dpi=100)\n",
    "plt.subplot(2,1,1)\n",
    "librosa.display.waveplot(y,alpha=0.5)\n",
    "plt.plot(t,p_rms,color=\"r\")\n",
    "plt.title(\"RMSE Feature Extration FP\")\n",
    "# plt.savefig(f'{figpath}/RMSE.pdf', dpi=300)\n",
    "plt.legend([\"RMSE\",\"Waveform\"])\n",
    "plt.subplot(2,1,2)\n",
    "librosa.display.waveplot(y,alpha=0.5)\n",
    "plt.plot(t,rms_y,color=\"r\")\n",
    "plt.title(\"RMSE Feature Extration\")\n",
    "# plt.savefig(f'{figpath}/RMSE.pdf', dpi=300)\n",
    "plt.legend([\"RMSE\",\"Waveform\"])\n",
    "plt.tight_layout()\n",
    "plt.show()\n"
   ]
  },
  {
   "cell_type": "code",
   "execution_count": null,
   "id": "24157046-ef59-408e-99d4-d62d851a7d27",
   "metadata": {},
   "outputs": [],
   "source": [
    "# Zero-cross rate\n",
    "\n",
    "\n",
    "zcr_y =  librosa.feature.zero_crossing_rate(y,frame_length=FRAME_LENGHT,hop_length=HOP_LENGTH)[0]"
   ]
  },
  {
   "cell_type": "code",
   "execution_count": null,
   "id": "1efcf9f4-cdf3-4b6f-aee7-8971b7354627",
   "metadata": {},
   "outputs": [],
   "source": [
    "zcr_y.shape"
   ]
  },
  {
   "cell_type": "code",
   "execution_count": null,
   "id": "fa4128e0-bdad-4ea9-8998-56ef6857600c",
   "metadata": {},
   "outputs": [],
   "source": [
    "# Next we want to visualize the rmse for the  audio wave \n",
    "frames =  range(0,zcr_y.size)\n",
    "t  = librosa.frames_to_time(frames,hop_length=HOP_LENGTH)\n",
    "plt.figure(1,figsize=(14,4),dpi=100)\n",
    "librosa.display.waveplot(y,alpha=0.5)\n",
    "plt.plot(t,zcr_y,color=\"r\")\n",
    "plt.title(\"ZCR Feature Extration\")\n",
    "plt.savefig(f'{figpath}/ZCR.pdf', dpi=300)\n",
    "plt.legend([\"ZCR\",\"Waveform\"])\n",
    "plt.show()\n"
   ]
  },
  {
   "cell_type": "code",
   "execution_count": null,
   "id": "fa07dec0-e7ad-4480-931f-aba9bd9f7465",
   "metadata": {},
   "outputs": [],
   "source": [
    "p = \"/net/projects/scratch/winter/valid_until_31_July_2022/krumnack/animal-communication-data/Chimp_IvoryCoast/aru_continuous_recordings\""
   ]
  },
  {
   "cell_type": "code",
   "execution_count": null,
   "id": "da461485-e034-4c23-9f60-bf400464c449",
   "metadata": {},
   "outputs": [],
   "source": [
    "files = [os.path.join(p,f) for f in os.listdir(p) if os.path.isfile(os.path.join(p,f)) and f.endswith('.wav')]"
   ]
  },
  {
   "cell_type": "code",
   "execution_count": null,
   "id": "dec1199f-a6f0-482e-b8ec-4a1ee615ac22",
   "metadata": {},
   "outputs": [],
   "source": [
    "files"
   ]
  },
  {
   "cell_type": "code",
   "execution_count": null,
   "id": "be82e888-921d-41fd-8a2a-46d99ffa2e72",
   "metadata": {},
   "outputs": [],
   "source": [
    "f = 'ARU11_20120415_170000.wav'\n"
   ]
  },
  {
   "cell_type": "code",
   "execution_count": null,
   "id": "d1d93014-aecf-4a17-9091-bbf0d1e40894",
   "metadata": {},
   "outputs": [],
   "source": []
  },
  {
   "cell_type": "code",
   "execution_count": null,
   "id": "2da2b224-4bcf-4447-8f6c-4b93534d1e9d",
   "metadata": {},
   "outputs": [],
   "source": []
  }
 ],
 "metadata": {
  "kernelspec": {
   "display_name": "Python 3",
   "language": "python",
   "name": "python3"
  },
  "language_info": {
   "codemirror_mode": {
    "name": "ipython",
    "version": 3
   },
   "file_extension": ".py",
   "mimetype": "text/x-python",
   "name": "python",
   "nbconvert_exporter": "python",
   "pygments_lexer": "ipython3",
   "version": "3.9.7"
  }
 },
 "nbformat": 4,
 "nbformat_minor": 5
}
