{
 "cells": [
  {
   "cell_type": "code",
   "execution_count": 1,
   "id": "db287279",
   "metadata": {},
   "outputs": [
    {
     "name": "stdout",
     "output_type": "stream",
     "text": [
      "tensorflow version 2.6.0\n"
     ]
    },
    {
     "data": {
      "image/png": "[encoded data removed]",
      "text/plain": [
       "<Figure size 720x432 with 1 Axes>"
      ]
     },
     "metadata": {
      "needs_background": "light"
     },
     "output_type": "display_data"
    }
   ],
   "source": [
    "%matplotlib inline\n",
    "import numpy as np\n",
    "from mpl_toolkits.mplot3d import axes3d\n",
    "import matplotlib.pyplot as plt\n",
    "import tensorflow as tf\n",
    "import pandas as pd\n",
    "import scipy.signal\n",
    "import soundfile as sp\n",
    "import librosa\n",
    "import pandas as pd\n",
    "import librosa.display\n",
    "from IPython.display import HTML\n",
    "import IPython.display as ipd\n",
    "import matplotlib.animation as animation\n",
    "from sklearn.decomposition import  PCA,TruncatedSVD,FastICA\n",
    "from inaSpeechSegmenter import Segmenter\n",
    "from inaSpeechSegmenter.export_funcs import seg2csv, seg2textgrid\n",
    "from utils import Preprocessing,Animation\n",
    "from utils import Visualize\n",
    "from dataloader import DataLoader\n",
    "import random\n",
    "import os\n",
    "import config\n",
    "from  pathlib  import Path \n",
    "print(\"tensorflow version\" ,tf.__version__)\n",
    "device = tf.config.list_physical_devices()[-1]"
   ]
  },
  {
   "cell_type": "code",
   "execution_count": 2,
   "id": "49fe31fe",
   "metadata": {},
   "outputs": [],
   "source": [
    "plt.rcParams['text.usetex'] = False\n",
    "plt.rcParams['font.size'] = 12\n",
    "np.random.seed(42)\n",
    "tf.random.set_seed(42)\n",
    "random.seed(42)\n",
    "\n",
    "#We are initializing the experiment being analyzed\n",
    "exp = config.experiment[\"NAME\"]"
   ]
  },
  {
   "cell_type": "code",
   "execution_count": null,
   "id": "42bbea96",
   "metadata": {},
   "outputs": [],
   "source": [
    "pp =  Preprocessing(config.data['OUT_PATH'])\n",
    "\n",
    "df =  pp.get_files()\n",
    "\n",
    "# load some test data for demonstration and plot a wireframe\n",
    "dl = DataLoader(config.data['file_path'],keepdims=True, crop_dims= (128,128) )\n",
    "dl.create_tensor_set()"
   ]
  },
  {
   "cell_type": "code",
   "execution_count": null,
   "id": "21036e9f",
   "metadata": {},
   "outputs": [],
   "source": [
    "viz =  Visualize(config.figures['figpath'])\n",
    "viz.show_distribution(df,save=True,filename=f'Data_Distribution_{exp}', figsize=(10,6))"
   ]
  },
  {
   "cell_type": "code",
   "execution_count": null,
   "id": "61575a75",
   "metadata": {},
   "outputs": [],
   "source": []
  },
  {
   "cell_type": "code",
   "execution_count": null,
   "id": "58229b22",
   "metadata": {},
   "outputs": [],
   "source": []
  },
  {
   "cell_type": "code",
   "execution_count": null,
   "id": "812c02ef",
   "metadata": {},
   "outputs": [],
   "source": []
  },
  {
   "cell_type": "code",
   "execution_count": null,
   "id": "43eb66d6",
   "metadata": {},
   "outputs": [],
   "source": []
  }
 ],
 "metadata": {
  "kernelspec": {
   "display_name": "Python 3",
   "language": "python",
   "name": "python3"
  },
  "language_info": {
   "codemirror_mode": {
    "name": "ipython",
    "version": 3
   },
   "file_extension": ".py",
   "mimetype": "text/x-python",
   "name": "python",
   "nbconvert_exporter": "python",
   "pygments_lexer": "ipython3",
   "version": "3.9.7"
  }
 },
 "nbformat": 4,
 "nbformat_minor": 5
}
