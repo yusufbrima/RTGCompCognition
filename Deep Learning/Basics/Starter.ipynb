{
 "cells": [
  {
   "cell_type": "code",
   "execution_count": 1,
   "id": "f03fa3f5-0cc5-4be3-9992-b9e0e0a72475",
   "metadata": {},
   "outputs": [],
   "source": [
    "import numpy as np\n",
    "import librosa\n",
    "import matplotlib.pyplot as plt"
   ]
  },
  {
   "cell_type": "code",
   "execution_count": 2,
   "id": "a89fa890-5b3e-4f07-ab48-dabc4bcdda10",
   "metadata": {},
   "outputs": [
    {
     "name": "stdout",
     "output_type": "stream",
     "text": [
      "/Users/yusuf/Desktop/RTGCompCognition/Deep Learning/Basics\n"
     ]
    }
   ],
   "source": [
    "!pwd"
   ]
  },
  {
   "cell_type": "code",
   "execution_count": 27,
   "id": "7e485d0f-b3eb-4892-a728-d80e80d27f13",
   "metadata": {},
   "outputs": [],
   "source": [
    "X = np.random.normal(0,1,(100,28,28,3))\n",
    "\n",
    "y  = np.random.normal(0,1,(100,))\n",
    "\n",
    "\n",
    "z  = np.random.normal(0,1,(100,))"
   ]
  },
  {
   "cell_type": "code",
   "execution_count": 16,
   "id": "aedb78d4-f2a2-44c3-82fd-a76e9ef8377d",
   "metadata": {},
   "outputs": [
    {
     "data": {
      "text/plain": [
       "(100, 28, 28, 3)"
      ]
     },
     "execution_count": 16,
     "metadata": {},
     "output_type": "execute_result"
    }
   ],
   "source": [
    "X.shape"
   ]
  },
  {
   "cell_type": "code",
   "execution_count": 17,
   "id": "bb955cc2-511a-4db0-952c-7d6317403b61",
   "metadata": {},
   "outputs": [
    {
     "name": "stderr",
     "output_type": "stream",
     "text": [
      "Clipping input data to the valid range for imshow with RGB data ([0..1] for floats or [0..255] for integers).\n"
     ]
    },
    {
     "data": {
      "text/plain": [
       "<matplotlib.image.AxesImage at 0x7fda09269c70>"
      ]
     },
     "execution_count": 17,
     "metadata": {},
     "output_type": "execute_result"
    },
    {
     "data": {
      "image/png": "[encoded data removed]",
      "text/plain": [
       "<Figure size 432x288 with 1 Axes>"
      ]
     },
     "metadata": {
      "needs_background": "light"
     },
     "output_type": "display_data"
    }
   ],
   "source": [
    "plt.imshow(X[0],interpolation=\"nearest\")"
   ]
  },
  {
   "cell_type": "code",
   "execution_count": 10,
   "id": "768edf26-b4ad-43c5-88e2-499752100863",
   "metadata": {},
   "outputs": [],
   "source": [
    "np.save('test.npy', X)    # .npy extension is added if not given\n",
    "d = np.load('test.npy')"
   ]
  },
  {
   "cell_type": "code",
   "execution_count": 28,
   "id": "58542f05-0113-452f-9d9a-3a9b591ece96",
   "metadata": {},
   "outputs": [],
   "source": [
    "np.savez('test2.npz', x=X, y=y,z=z)\n",
    "\n"
   ]
  },
  {
   "cell_type": "code",
   "execution_count": 29,
   "id": "caf42a77-19ca-4ba4-821a-26dd729cd1cc",
   "metadata": {},
   "outputs": [],
   "source": [
    " h = np.load('test2.npz')"
   ]
  },
  {
   "cell_type": "code",
   "execution_count": 35,
   "id": "2032ac1a-ae24-43b7-9198-8d9b085d72ce",
   "metadata": {},
   "outputs": [
    {
     "data": {
      "text/plain": [
       "['x', 'y', 'z']"
      ]
     },
     "execution_count": 35,
     "metadata": {},
     "output_type": "execute_result"
    }
   ],
   "source": [
    "h.files"
   ]
  },
  {
   "cell_type": "code",
   "execution_count": null,
   "id": "f6f564e1-6596-4430-ab2a-73e7759382ea",
   "metadata": {},
   "outputs": [],
   "source": []
  }
 ],
 "metadata": {
  "kernelspec": {
   "display_name": "Python 3 (ipykernel)",
   "language": "python",
   "name": "python3"
  },
  "language_info": {
   "codemirror_mode": {
    "name": "ipython",
    "version": 3
   },
   "file_extension": ".py",
   "mimetype": "text/x-python",
   "name": "python",
   "nbconvert_exporter": "python",
   "pygments_lexer": "ipython3",
   "version": "3.9.7"
  }
 },
 "nbformat": 4,
 "nbformat_minor": 5
}
