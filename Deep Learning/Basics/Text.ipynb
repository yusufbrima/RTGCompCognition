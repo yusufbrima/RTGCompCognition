{
 "cells": [
  {
   "cell_type": "code",
   "execution_count": 4,
   "id": "4694d3e4-f69b-458e-b05d-871c9514f2c7",
   "metadata": {},
   "outputs": [],
   "source": [
    "import numpy as np\n",
    "import matplotlib.pyplot as plt \n",
    "from sklearn.datasets import make_classification,make_regression\n",
    "from sklearn.model_selection import train_test_split\n",
    "from sklearn.ensemble import RandomForestClassifier\n",
    "from sklearn.decomposition import PCA,TruncatedSVD\n",
    "from sklearn.metrics import confusion_matrix\n",
    "from sklearn.feature_extraction.text import CountVectorizer\n",
    "from sklearn.naive_bayes import MultinomialNB\n",
    "import tensorflow.keras as keras\n",
    "import tensorflow.keras.backend as K \n",
    "from sklearn import linear_model\n",
    "# import pandas as pd\n",
    "import os "
   ]
  },
  {
   "cell_type": "code",
   "execution_count": 2,
   "id": "deb3baf8-7bb6-4c02-81ac-a7dd207d03f0",
   "metadata": {},
   "outputs": [],
   "source": [
    "\"\"\" We are setting global constants \"\"\"\n",
    "NUM_CLASSES =  2\n",
    "NUM_SAMPLES =  1000\n",
    "NUM_FEATURES =  20\n",
    "EPOCHS =  30\n",
    "BATCH_SIZE =  32\n",
    "\n",
    "DATA_PATH =  os.path.join(os.getcwd(),\"data\")"
   ]
  },
  {
   "cell_type": "code",
   "execution_count": 3,
   "id": "9b416ff6-4122-42b9-9638-76afcf82c3eb",
   "metadata": {},
   "outputs": [
    {
     "name": "stdout",
     "output_type": "stream",
     "text": [
      "/Users/yusuf/Desktop/RTGCompCognition/Deep Learning/Basics/data\n"
     ]
    }
   ],
   "source": [
    "print(DATA_PATH)"
   ]
  },
  {
   "cell_type": "code",
   "execution_count": 6,
   "id": "a7661a38-acfe-40c1-b102-5ce6291a8952",
   "metadata": {},
   "outputs": [],
   "source": [
    "# df =  pd.read_csv(os.path.join(DATA_PATH,'spam'),sep=\"\\t\")"
   ]
  },
  {
   "cell_type": "code",
   "execution_count": null,
   "id": "1acfaa34-2dc6-4e91-972f-19cba9bf03c0",
   "metadata": {},
   "outputs": [],
   "source": []
  }
 ],
 "metadata": {
  "kernelspec": {
   "display_name": "Python 3 (ipykernel)",
   "language": "python",
   "name": "python3"
  },
  "language_info": {
   "codemirror_mode": {
    "name": "ipython",
    "version": 3
   },
   "file_extension": ".py",
   "mimetype": "text/x-python",
   "name": "python",
   "nbconvert_exporter": "python",
   "pygments_lexer": "ipython3",
   "version": "3.9.7"
  }
 },
 "nbformat": 4,
 "nbformat_minor": 5
}
