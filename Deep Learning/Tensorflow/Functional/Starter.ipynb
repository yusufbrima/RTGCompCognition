{
 "cells": [
  {
   "cell_type": "code",
   "execution_count": 1,
   "id": "073edf9b",
   "metadata": {},
   "outputs": [],
   "source": [
    "import tensorflow.keras.backend as K\n",
    "import tensorflow.keras as keras\n",
    "from sklearn.metrics import confusion_matrix\n",
    "from sklearn.model_selection import train_test_split\n",
    "from sklearn.datasets import make_classification\n",
    "import numpy as np \n",
    "import matplotlib.pyplot as plt \n",
    "import os \n",
    "import itertools\n",
    "import random"
   ]
  },
  {
   "cell_type": "code",
   "execution_count": 2,
   "id": "91b7fc22",
   "metadata": {},
   "outputs": [],
   "source": [
    "def build_model():\n",
    "    \"\"\" This function builds a functional model\"\"\"\n",
    "    \n",
    "\n",
    "    inputs =  keras.Input(shape=(28,28),name=\"input_layer\")\n",
    "    x =  keras.layers.Flatten()(inputs)\n",
    "    \n",
    "    x =  keras.layers.Dense(32,activation=\"relu\")(x)\n",
    "    x =  keras.layers.BatchNormalization()(x)\n",
    "    x =  keras.layers.Dropout(0.3)(x)\n",
    "\n",
    "    x =  keras.layers.Dense(64,activation=\"relu\")(x)\n",
    "    x =  keras.layers.BatchNormalization()(x)\n",
    "    x =  keras.layers.Dropout(0.3)(x)\n",
    "    \n",
    "    x =  keras.layers.Dense(128,activation=\"relu\")(x)\n",
    "    x =  keras.layers.BatchNormalization()(x)\n",
    "    x =  keras.layers.Dropout(0.3)(x)\n",
    "    \n",
    "    x =  keras.layers.Dense(64,activation=\"relu\")(x)\n",
    "    x =  keras.layers.BatchNormalization()(x)\n",
    "    x =  keras.layers.Dropout(0.3)(x)\n",
    "    \n",
    "    x =  keras.layers.Dense(32,activation=\"relu\")(x)\n",
    "    x =  keras.layers.BatchNormalization()(x)\n",
    "    x =  keras.layers.Dropout(0.3)(x)\n",
    "\n",
    "    outputs =  keras.layers.Dense(10,activation=\"softmax\")(x)\n",
    "\n",
    "\n",
    "    model =  keras.Model(inputs=inputs,outputs=outputs,name=\"mnist_model\")\n",
    "    \n",
    "    model.compile(loss=\"sparse_categorical_crossentropy\", optimizer=keras.optimizers.RMSprop(),metrics=[\"accuracy\"],)\n",
    "    \n",
    "    return model"
   ]
  },
  {
   "cell_type": "code",
   "execution_count": 3,
   "id": "efcb36ac",
   "metadata": {},
   "outputs": [],
   "source": [
    "(x_train, y_train), (x_test, y_test) = keras.datasets.mnist.load_data()"
   ]
  },
  {
   "cell_type": "code",
   "execution_count": 4,
   "id": "2985e524",
   "metadata": {},
   "outputs": [
    {
     "data": {
      "image/png": "[encoded data removed]",
      "text/plain": [
       "<Figure size 864x432 with 9 Axes>"
      ]
     },
     "metadata": {
      "needs_background": "light"
     },
     "output_type": "display_data"
    }
   ],
   "source": [
    "plt.figure(figsize=(12,6))\n",
    "samples = np.random.randint(0,len(x_train),9)\n",
    "for i in range(len(samples)):\n",
    "    plt.subplot(3,3,i+1)\n",
    "    plt.imshow(x_train[samples[i]],interpolation='nearest')\n",
    "    plt.title(str(y_train[samples[i]]))\n",
    "    plt.axis(\"off\")"
   ]
  },
  {
   "cell_type": "code",
   "execution_count": 5,
   "id": "87b0e69a",
   "metadata": {},
   "outputs": [],
   "source": [
    "model = build_model()"
   ]
  },
  {
   "cell_type": "code",
   "execution_count": 6,
   "id": "fe7ad5f0",
   "metadata": {},
   "outputs": [],
   "source": [
    "x_train = x_train.astype(\"float32\") / 255\n",
    "x_test = x_test.astype(\"float32\") / 255"
   ]
  },
  {
   "cell_type": "code",
   "execution_count": 7,
   "id": "959187ae",
   "metadata": {},
   "outputs": [
    {
     "name": "stdout",
     "output_type": "stream",
     "text": [
      "Epoch 1/2\n",
      "1500/1500 [==============================] - 5s 3ms/step - loss: 1.0008 - accuracy: 0.6928 - val_loss: 0.2733 - val_accuracy: 0.9222\n",
      "Epoch 2/2\n",
      "1500/1500 [==============================] - 4s 3ms/step - loss: 0.5567 - accuracy: 0.8476 - val_loss: 0.2477 - val_accuracy: 0.9293\n"
     ]
    }
   ],
   "source": [
    "history = model.fit(x_train, y_train, batch_size=32, epochs=2, validation_split=0.2)"
   ]
  },
  {
   "cell_type": "code",
   "execution_count": null,
   "id": "427ce547",
   "metadata": {},
   "outputs": [],
   "source": [
    "# keras.utils.plot_model(model,\"model.png\",show_shapes=True)"
   ]
  },
  {
   "cell_type": "code",
   "execution_count": 8,
   "id": "5388191c",
   "metadata": {},
   "outputs": [
    {
     "name": "stdout",
     "output_type": "stream",
     "text": [
      "313/313 - 0s - loss: 0.2561 - accuracy: 0.9286\n",
      "Test loss: 0.25613054633140564\n",
      "Test accuracy: 0.928600013256073\n"
     ]
    }
   ],
   "source": [
    "test_scores = model.evaluate(x_test, y_test, verbose=2)\n",
    "print(\"Test loss:\", test_scores[0])\n",
    "print(\"Test accuracy:\", test_scores[1])"
   ]
  },
  {
   "cell_type": "code",
   "execution_count": 9,
   "id": "fa144d77",
   "metadata": {},
   "outputs": [],
   "source": [
    "def build_model():\n",
    "\n",
    "    encoder_input =  keras.Input(shape=(28,28,1),name=\"img\")\n",
    "\n",
    "    x =  keras.layers.Conv2D(16, 3,activation=\"relu\")(encoder_input)\n",
    "    x = keras.layers.Conv2D(32, 3, activation=\"relu\")(x)\n",
    "    x = keras.layers.MaxPooling2D(3)(x)\n",
    "    x = keras.layers.Conv2D(32, 3, activation=\"relu\")(x)\n",
    "    x = keras.layers.Conv2D(16, 3, activation=\"relu\")(x)\n",
    "    encoder_output =  keras.layers.GlobalMaxPooling2D()(x)\n",
    "    \n",
    "    encoder = keras.Model(encoder_input, encoder_output, name=\"encoder\")\n",
    "    \n",
    "    # We are building an autoencoder now     \n",
    "    x = keras.layers.Reshape((4, 4, 1))(encoder_output)\n",
    "    x = keras.layers.Conv2DTranspose(16, 3, activation=\"relu\")(x)\n",
    "    x = keras.layers.Conv2DTranspose(32, 3, activation=\"relu\")(x)\n",
    "    x = keras.layers.UpSampling2D(3)(x)\n",
    "    x = keras.layers.Conv2DTranspose(16, 3, activation=\"relu\")(x)\n",
    "    decoder_output = keras.layers.Conv2DTranspose(1, 3, activation=\"relu\")(x)\n",
    "\n",
    "    autoencoder = keras.Model(encoder_input, decoder_output, name=\"autoencoder\")\n",
    "    return encoder,autoencoder"
   ]
  },
  {
   "cell_type": "code",
   "execution_count": 10,
   "id": "841d376e",
   "metadata": {},
   "outputs": [],
   "source": [
    "encoder,autoencoder =  build_model()"
   ]
  },
  {
   "cell_type": "code",
   "execution_count": null,
   "id": "2762f6c0",
   "metadata": {},
   "outputs": [],
   "source": [
    "encoder.summary()"
   ]
  },
  {
   "cell_type": "code",
   "execution_count": null,
   "id": "0fbeae44",
   "metadata": {},
   "outputs": [],
   "source": [
    "autoencoder.summary()"
   ]
  },
  {
   "cell_type": "code",
   "execution_count": 12,
   "id": "7b0dfdc0",
   "metadata": {},
   "outputs": [],
   "source": [
    "# keras.utils.plot_model(autoencoder,'autoencoder.png',show_shapes=True)"
   ]
  },
  {
   "cell_type": "code",
   "execution_count": 13,
   "id": "330b16b8",
   "metadata": {},
   "outputs": [],
   "source": [
    "def build_multi_model():\n",
    "    \"\"\" This function builds a functional model\"\"\"\n",
    "    \n",
    "\n",
    "    inputs =  keras.Input(shape=(784,),name=\"input_layer\")\n",
    "    \n",
    "    x =  keras.layers.Dense(32,activation=\"relu\")(inputs)\n",
    "    x =  keras.layers.BatchNormalization()(x)\n",
    "    x =  keras.layers.Dropout(0.3)(x)\n",
    "\n",
    "    x =  keras.layers.Dense(64,activation=\"relu\")(x)\n",
    "    x =  keras.layers.BatchNormalization()(x)\n",
    "    x =  keras.layers.Dropout(0.3)(x)\n",
    "    \n",
    "    x =  keras.layers.Dense(128,activation=\"relu\")(x)\n",
    "    x =  keras.layers.BatchNormalization()(x)\n",
    "    x =  keras.layers.Dropout(0.3)(x)\n",
    "    \n",
    "    x =  keras.layers.Dense(64,activation=\"relu\")(x)\n",
    "    x =  keras.layers.BatchNormalization()(x)\n",
    "    x =  keras.layers.Dropout(0.3)(x)\n",
    "    \n",
    "    x =  keras.layers.Dense(32,activation=\"relu\")(x)\n",
    "    x =  keras.layers.BatchNormalization()(x)\n",
    "    x =  keras.layers.Dropout(0.3)(x)\n",
    "\n",
    "    outputs_identity =  keras.layers.Dense(10,activation=\"softmax\",name=\"department\")(x)\n",
    "    \n",
    "    outputs_gender =  keras.layers.Dense(2,activation=\"softmax\",name=\"gender\")(x)\n",
    "\n",
    "\n",
    "    model =  keras.Model(inputs=inputs,outputs=[outputs_identity, outputs_gender],name=\"mnist_model\")\n",
    "    #     loss=[\"sparse_categorical_crossentropy\",keras.losses.BinaryCrossentropy()], \n",
    "    model.compile(\n",
    "        loss=[\"sparse_categorical_crossentropy\",\"sparse_categorical_crossentropy\"],\n",
    "        optimizer=keras.optimizers.RMSprop(1e-3),\n",
    "        metrics = [\"accuracy\"]\n",
    "        )\n",
    "    \n",
    "    return model"
   ]
  },
  {
   "cell_type": "code",
   "execution_count": 14,
   "id": "14e67d6f",
   "metadata": {},
   "outputs": [],
   "source": [
    "# Here we are generating fake data\n",
    "X,y =  make_classification(n_samples=100000, n_features=784,n_classes=10,n_clusters_per_class=4,n_informative=10)"
   ]
  },
  {
   "cell_type": "code",
   "execution_count": 15,
   "id": "45e72563",
   "metadata": {},
   "outputs": [],
   "source": [
    "y_2 = np.random.choice([0,1],len(y))  "
   ]
  },
  {
   "cell_type": "code",
   "execution_count": 16,
   "id": "26715c67",
   "metadata": {},
   "outputs": [],
   "source": [
    "model = build_multi_model()"
   ]
  },
  {
   "cell_type": "code",
   "execution_count": null,
   "id": "2c43dc58",
   "metadata": {},
   "outputs": [],
   "source": [
    "# model.summary()"
   ]
  },
  {
   "cell_type": "code",
   "execution_count": null,
   "id": "a2b1bceb",
   "metadata": {},
   "outputs": [],
   "source": [
    "# keras.utils.plot_model(model,'multitask.png',show_shapes=True)"
   ]
  },
  {
   "cell_type": "code",
   "execution_count": 17,
   "id": "663adad5",
   "metadata": {},
   "outputs": [],
   "source": [
    "X  = X.astype(\"float32\")"
   ]
  },
  {
   "cell_type": "code",
   "execution_count": 18,
   "id": "ae48cde1",
   "metadata": {},
   "outputs": [
    {
     "name": "stdout",
     "output_type": "stream",
     "text": [
      "Epoch 1/2\n",
      "3125/3125 [==============================] - 11s 3ms/step - loss: 3.0462 - department_loss: 2.3276 - gender_loss: 0.7186 - department_accuracy: 0.1422 - gender_accuracy: 0.4984\n",
      "Epoch 2/2\n",
      "3125/3125 [==============================] - 9s 3ms/step - loss: 2.8470 - department_loss: 2.1528 - gender_loss: 0.6942 - department_accuracy: 0.2157 - gender_accuracy: 0.4985\n"
     ]
    },
    {
     "data": {
      "text/plain": [
       "<keras.callbacks.History at 0x7ff9987d88e0>"
      ]
     },
     "execution_count": 18,
     "metadata": {},
     "output_type": "execute_result"
    }
   ],
   "source": [
    "model.fit(x = X,y= {\"department\": y,\"gender\": y_2},epochs=2,batch_size=32)"
   ]
  },
  {
   "cell_type": "code",
   "execution_count": 19,
   "id": "991af417",
   "metadata": {},
   "outputs": [],
   "source": [
    "def build_resnet():\n",
    "    \"\"\" This function builds a functional model\"\"\"\n",
    "    \n",
    "\n",
    "    inputs =  keras.Input(shape=(784,),name=\"input_layer\")\n",
    "    \n",
    "    x =  keras.layers.Dense(64,activation=\"relu\")(inputs)\n",
    "    x =  keras.layers.BatchNormalization()(x)\n",
    "    x =  keras.layers.Dropout(0.3)(x)\n",
    "    block_1_output = x\n",
    "    \n",
    "    x =  keras.layers.Dense(64,activation=\"relu\")(block_1_output)\n",
    "    x =  keras.layers.BatchNormalization()(x)\n",
    "    x =  keras.layers.Dropout(0.3)(x)\n",
    "    block_2_output =  keras.layers.add([x,block_1_output])\n",
    "    \n",
    "    x =  keras.layers.Dense(128,activation=\"relu\")(block_2_output)\n",
    "    x =  keras.layers.BatchNormalization()(x)\n",
    "    x =  keras.layers.Dropout(0.3)(x)\n",
    "    block_3_output =  x\n",
    "    \n",
    "    x =  keras.layers.Dense(128,activation=\"relu\")(block_3_output)\n",
    "    x =  keras.layers.BatchNormalization()(x)\n",
    "    x =  keras.layers.Dropout(0.3)(x)\n",
    "    block_4_output =  keras.layers.add([x,block_3_output])\n",
    "    \n",
    "    \n",
    "    x =  keras.layers.Dense(64,activation=\"relu\")(block_4_output)\n",
    "    x =  keras.layers.BatchNormalization()(x)\n",
    "    x =  keras.layers.Dropout(0.3)(x)\n",
    "    block_5_output =  keras.layers.add([x,block_1_output])\n",
    "    x_train = x_train.astype(\"float32\") / 255\n",
    "x_test = x_test.astype(\"float32\") / 255\n",
    "    \n",
    "    x =  keras.layers.Dense(32,activation=\"relu\")(block_5_output)\n",
    "    x =  keras.layers.BatchNormalization()(x)\n",
    "    x =  keras.layers.Dropout(0.3)(x)\n",
    "\n",
    "    outputs_identity =  keras.layers.Dense(10,activation=\"softmax\",name=\"department\")(x)\n",
    "    \n",
    "    outputs_gender =  keras.layers.Dense(2,activation=\"softmax\",name=\"gender\")(x)\n",
    "\n",
    "\n",
    "    model =  keras.Model(inputs=inputs,outputs=[outputs_identity, outputs_gender],name=\"mnist_model\")\n",
    "    #     loss=[\"sparse_categorical_crossentropy\",keras.losses.BinaryCrossentropy()], \n",
    "    model.compile(\n",
    "        loss=[\"sparse_categorical_crossentropy\",\"sparse_categorical_crossentropy\"],\n",
    "        optimizer=keras.optimizers.RMSprop(1e-3),\n",
    "        metrics = [\"accuracy\"]\n",
    "        )\n",
    "    \n",
    "    return model"
   ]
  },
  {
   "cell_type": "code",
   "execution_count": 20,
   "id": "500b4fc9",
   "metadata": {},
   "outputs": [],
   "source": [
    "model = build_resnet()"
   ]
  },
  {
   "cell_type": "code",
   "execution_count": null,
   "id": "6251fe11",
   "metadata": {},
   "outputs": [],
   "source": [
    "# model.summary()"
   ]
  },
  {
   "cell_type": "code",
   "execution_count": null,
   "id": "d6f8ee30",
   "metadata": {},
   "outputs": [],
   "source": [
    "# keras.utils.plot_model(model,'psudoresnet.png',show_shapes=True)"
   ]
  },
  {
   "cell_type": "code",
   "execution_count": 21,
   "id": "9fd63b17",
   "metadata": {},
   "outputs": [
    {
     "name": "stdout",
     "output_type": "stream",
     "text": [
      "Epoch 1/2\n",
      "2500/2500 [==============================] - 10s 4ms/step - loss: 3.0201 - department_loss: 2.2980 - gender_loss: 0.7221 - department_accuracy: 0.1667 - gender_accuracy: 0.5021 - val_loss: 2.7704 - val_department_loss: 2.0766 - val_gender_loss: 0.6938 - val_department_accuracy: 0.2474 - val_gender_accuracy: 0.5018\n",
      "Epoch 2/2\n",
      "2500/2500 [==============================] - 9s 3ms/step - loss: 2.7740 - department_loss: 2.0796 - gender_loss: 0.6944 - department_accuracy: 0.2522 - gender_accuracy: 0.4986 - val_loss: 2.6408 - val_department_loss: 1.9470 - val_gender_loss: 0.6938 - val_department_accuracy: 0.3115 - val_gender_accuracy: 0.4979\n"
     ]
    }
   ],
   "source": [
    "history = model.fit(x = X,y= {\"department\": y,\"gender\": y_2},epochs=2,batch_size=32,validation_split=0.2)"
   ]
  },
  {
   "cell_type": "code",
   "execution_count": 22,
   "id": "0b4c1054",
   "metadata": {},
   "outputs": [
    {
     "data": {
      "text/plain": [
       "[<matplotlib.lines.Line2D at 0x7ff994627dc0>]"
      ]
     },
     "execution_count": 22,
     "metadata": {},
     "output_type": "execute_result"
    },
    {
     "data": {
      "image/png": "[encoded data removed]",
      "text/plain": [
       "<Figure size 432x288 with 1 Axes>"
      ]
     },
     "metadata": {
      "needs_background": "light"
     },
     "output_type": "display_data"
    }
   ],
   "source": [
    "plt.plot(history.history['department_loss'])\n",
    "plt.plot(history.history['gender_loss'])"
   ]
  },
  {
   "cell_type": "code",
   "execution_count": 33,
   "id": "d6591b8a",
   "metadata": {},
   "outputs": [],
   "source": [
    "def resnet():\n",
    "    inputs = keras.Input(shape=(28, 28, 1), name=\"img\")\n",
    "    x = keras.layers.Conv2D(32, 3, activation=\"relu\")(inputs)\n",
    "    x = keras.layers.Conv2D(64, 3, activation=\"relu\")(x)\n",
    "    block_1_output = keras.layers.MaxPooling2D(3)(x)\n",
    "\n",
    "    x = keras.layers.Conv2D(64, 3, activation=\"relu\", padding=\"same\")(block_1_output)\n",
    "    x = keras.layers.Conv2D(64, 3, activation=\"relu\", padding=\"same\")(x)\n",
    "    block_2_output = keras.layers.add([x, block_1_output])\n",
    "\n",
    "    x = keras.layers.Conv2D(64, 3, activation=\"relu\", padding=\"same\")(block_2_output)\n",
    "    x = keras.layers.Conv2D(64, 3, activation=\"relu\", padding=\"same\")(x)\n",
    "    block_3_output = keras.layers.add([x, block_2_output])\n",
    "\n",
    "    x = keras.layers.Conv2D(64, 3, activation=\"relu\")(block_3_output)\n",
    "    x = keras.layers.GlobalAveragePooling2D()(x)\n",
    "    x = keras.layers.Dense(256, activation=\"relu\")(x)\n",
    "    x = keras.layers.Dropout(0.5)(x)\n",
    "#     outputs = layers.Dense(10)(x)\n",
    "    \n",
    "    outputs_identity =  keras.layers.Dense(10,activation=\"softmax\",name=\"department\")(x)\n",
    "    \n",
    "    outputs_gender =  keras.layers.Dense(2,activation=\"softmax\",name=\"gender\")(x)\n",
    "\n",
    "\n",
    "    model =  keras.Model(inputs=inputs,outputs=[outputs_identity, outputs_gender],name=\"toy_resnet\")\n",
    "    #     loss=[\"sparse_categorical_crossentropy\",keras.losses.BinaryCrossentropy()], \n",
    "    model.compile(\n",
    "        loss=[\"sparse_categorical_crossentropy\",\"sparse_categorical_crossentropy\"],\n",
    "        optimizer=keras.optimizers.RMSprop(1e-3),\n",
    "        metrics = [\"accuracy\"]\n",
    "        )\n",
    "    return model"
   ]
  },
  {
   "cell_type": "code",
   "execution_count": 27,
   "id": "7db0b5df",
   "metadata": {},
   "outputs": [],
   "source": [
    "(x_train, y_train), (x_test, y_test) = keras.datasets.mnist.load_data()\n",
    "x_train = x_train.astype(\"float32\") / 255\n",
    "x_test = x_test.astype(\"float32\") / 255"
   ]
  },
  {
   "cell_type": "code",
   "execution_count": 34,
   "id": "a24b3cce",
   "metadata": {},
   "outputs": [],
   "source": [
    "model =  resnet()"
   ]
  },
  {
   "cell_type": "code",
   "execution_count": 40,
   "id": "e5974bbe",
   "metadata": {},
   "outputs": [],
   "source": [
    "# model.summary()"
   ]
  },
  {
   "cell_type": "code",
   "execution_count": 37,
   "id": "3df32b4a",
   "metadata": {},
   "outputs": [],
   "source": [
    "# keras.utils.plot_model(model,'toy_resnet.png',show_shapes=True)"
   ]
  },
  {
   "cell_type": "code",
   "execution_count": 39,
   "id": "cd2f4bce",
   "metadata": {},
   "outputs": [],
   "source": [
    "y_train_2 = np.random.choice([0,1],len(y_train))\n",
    "y_test_2 = np.random.choice([0,1],len(y_test))"
   ]
  },
  {
   "cell_type": "code",
   "execution_count": 42,
   "id": "d3c55d01",
   "metadata": {},
   "outputs": [
    {
     "name": "stdout",
     "output_type": "stream",
     "text": [
      "Epoch 1/12\n",
      "1500/1500 [==============================] - 10s 6ms/step - loss: 0.7453 - department_loss: 0.0470 - gender_loss: 0.6983 - department_accuracy: 0.9870 - gender_accuracy: 0.5014 - val_loss: 0.7347 - val_department_loss: 0.0384 - val_gender_loss: 0.6963 - val_department_accuracy: 0.9898 - val_gender_accuracy: 0.5000\n",
      "Epoch 2/12\n",
      "1500/1500 [==============================] - 9s 6ms/step - loss: 0.7350 - department_loss: 0.0377 - gender_loss: 0.6974 - department_accuracy: 0.9895 - gender_accuracy: 0.4981 - val_loss: 0.7329 - val_department_loss: 0.0383 - val_gender_loss: 0.6946 - val_department_accuracy: 0.9897 - val_gender_accuracy: 0.5031\n",
      "Epoch 3/12\n",
      "1500/1500 [==============================] - 9s 6ms/step - loss: 0.7297 - department_loss: 0.0327 - gender_loss: 0.6970 - department_accuracy: 0.9914 - gender_accuracy: 0.4972 - val_loss: 0.7351 - val_department_loss: 0.0411 - val_gender_loss: 0.6940 - val_department_accuracy: 0.9892 - val_gender_accuracy: 0.4968\n",
      "Epoch 4/12\n",
      "1500/1500 [==============================] - 9s 6ms/step - loss: 0.7251 - department_loss: 0.0287 - gender_loss: 0.6964 - department_accuracy: 0.9923 - gender_accuracy: 0.4992 - val_loss: 0.7424 - val_department_loss: 0.0467 - val_gender_loss: 0.6957 - val_department_accuracy: 0.9889 - val_gender_accuracy: 0.4974\n",
      "Epoch 5/12\n",
      "1500/1500 [==============================] - 9s 6ms/step - loss: 0.7215 - department_loss: 0.0251 - gender_loss: 0.6964 - department_accuracy: 0.9930 - gender_accuracy: 0.4990 - val_loss: 0.7298 - val_department_loss: 0.0360 - val_gender_loss: 0.6938 - val_department_accuracy: 0.9928 - val_gender_accuracy: 0.5002\n",
      "Epoch 6/12\n",
      "1500/1500 [==============================] - 10s 6ms/step - loss: 0.7203 - department_loss: 0.0245 - gender_loss: 0.6958 - department_accuracy: 0.9936 - gender_accuracy: 0.5001 - val_loss: 0.7614 - val_department_loss: 0.0659 - val_gender_loss: 0.6955 - val_department_accuracy: 0.9876 - val_gender_accuracy: 0.4981\n",
      "Epoch 7/12\n",
      "1500/1500 [==============================] - 10s 6ms/step - loss: 0.7166 - department_loss: 0.0207 - gender_loss: 0.6959 - department_accuracy: 0.9947 - gender_accuracy: 0.5002 - val_loss: 0.7395 - val_department_loss: 0.0452 - val_gender_loss: 0.6944 - val_department_accuracy: 0.9914 - val_gender_accuracy: 0.5035\n",
      "Epoch 8/12\n",
      "1500/1500 [==============================] - 10s 7ms/step - loss: 0.7162 - department_loss: 0.0210 - gender_loss: 0.6952 - department_accuracy: 0.9945 - gender_accuracy: 0.5019 - val_loss: 0.7488 - val_department_loss: 0.0528 - val_gender_loss: 0.6960 - val_department_accuracy: 0.9883 - val_gender_accuracy: 0.4987\n",
      "Epoch 9/12\n",
      "1500/1500 [==============================] - 10s 6ms/step - loss: 0.7142 - department_loss: 0.0188 - gender_loss: 0.6954 - department_accuracy: 0.9952 - gender_accuracy: 0.5012 - val_loss: 0.7442 - val_department_loss: 0.0503 - val_gender_loss: 0.6939 - val_department_accuracy: 0.9908 - val_gender_accuracy: 0.4934\n",
      "Epoch 10/12\n",
      "1500/1500 [==============================] - 9s 6ms/step - loss: 0.7143 - department_loss: 0.0193 - gender_loss: 0.6951 - department_accuracy: 0.9955 - gender_accuracy: 0.5051 - val_loss: 0.7378 - val_department_loss: 0.0438 - val_gender_loss: 0.6940 - val_department_accuracy: 0.9909 - val_gender_accuracy: 0.5025\n",
      "Epoch 11/12\n",
      "1500/1500 [==============================] - 9s 6ms/step - loss: 0.7123 - department_loss: 0.0172 - gender_loss: 0.6952 - department_accuracy: 0.9955 - gender_accuracy: 0.5044 - val_loss: 0.7388 - val_department_loss: 0.0449 - val_gender_loss: 0.6939 - val_department_accuracy: 0.9907 - val_gender_accuracy: 0.5036\n",
      "Epoch 12/12\n",
      "1500/1500 [==============================] - 9s 6ms/step - loss: 0.7114 - department_loss: 0.0165 - gender_loss: 0.6949 - department_accuracy: 0.9958 - gender_accuracy: 0.5031 - val_loss: 0.7672 - val_department_loss: 0.0731 - val_gender_loss: 0.6941 - val_department_accuracy: 0.9868 - val_gender_accuracy: 0.5022\n"
     ]
    }
   ],
   "source": [
    "history = model.fit(x = x_train,y= {\"department\": y_train,\"gender\": y_train_2},epochs=12,batch_size=32,validation_split=0.2)"
   ]
  },
  {
   "cell_type": "code",
   "execution_count": 43,
   "id": "c34227ec",
   "metadata": {},
   "outputs": [
    {
     "data": {
      "text/plain": [
       "[<matplotlib.lines.Line2D at 0x7ff9c006e550>]"
      ]
     },
     "execution_count": 43,
     "metadata": {},
     "output_type": "execute_result"
    },
    {
     "data": {
      "image/png": "[encoded data removed]",
      "text/plain": [
       "<Figure size 432x288 with 1 Axes>"
      ]
     },
     "metadata": {
      "needs_background": "light"
     },
     "output_type": "display_data"
    }
   ],
   "source": [
    "plt.plot(history.history['department_loss'])\n",
    "plt.plot(history.history['gender_loss'])"
   ]
  },
  {
   "cell_type": "code",
   "execution_count": 45,
   "id": "e3585ec4",
   "metadata": {},
   "outputs": [
    {
     "data": {
      "text/plain": [
       "[<matplotlib.lines.Line2D at 0x7ff9c01f7190>]"
      ]
     },
     "execution_count": 45,
     "metadata": {},
     "output_type": "execute_result"
    },
    {
     "data": {
      "image/png": "[encoded data removed]",
      "text/plain": [
       "<Figure size 432x288 with 1 Axes>"
      ]
     },
     "metadata": {
      "needs_background": "light"
     },
     "output_type": "display_data"
    }
   ],
   "source": [
    "plt.plot(history.history['department_accuracy'])\n",
    "plt.plot(history.history['gender_accuracy'])"
   ]
  },
  {
   "cell_type": "code",
   "execution_count": null,
   "id": "b88681ba",
   "metadata": {},
   "outputs": [],
   "source": []
  }
 ],
 "metadata": {
  "kernelspec": {
   "display_name": "Python 3",
   "language": "python",
   "name": "python3"
  },
  "language_info": {
   "codemirror_mode": {
    "name": "ipython",
    "version": 3
   },
   "file_extension": ".py",
   "mimetype": "text/x-python",
   "name": "python",
   "nbconvert_exporter": "python",
   "pygments_lexer": "ipython3",
   "version": "3.9.7"
  }
 },
 "nbformat": 4,
 "nbformat_minor": 5
}
