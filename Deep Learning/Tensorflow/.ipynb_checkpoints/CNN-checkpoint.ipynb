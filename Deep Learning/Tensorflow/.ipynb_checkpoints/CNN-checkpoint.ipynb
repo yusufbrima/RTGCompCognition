{
 "cells": [
  {
   "cell_type": "code",
   "execution_count": null,
   "id": "96d40ba8-4f0e-4b27-9460-ea7116211ffe",
   "metadata": {},
   "outputs": [],
   "source": [
    "import librosa\n",
    "import librosa.display\n",
    "import IPython.display as ipd\n",
    "import matplotlib.pyplot as plt\n",
    "import json\n",
    "from sklearn.model_selection import train_test_split\n",
    "import tensorflow.keras as keras\n",
    "import numpy as np\n",
    "import scipy as sp\n",
    "import pandas as pd\n",
    "import random\n",
    "import os\n",
    "import math"
   ]
  },
  {
   "cell_type": "code",
   "execution_count": null,
   "id": "b379555e-9aed-493c-abd7-1e34022e506b",
   "metadata": {},
   "outputs": [],
   "source": [
    "# path to json file that stores MFCCs and genre labels for each processed segment\n",
    "paths = \"/net/projects/scratch/winter/valid_until_31_July_2022/ybrima/data\"\n",
    "\n",
    "JSON_PATH = f\"{paths}/data_13.json\"\n",
    "\n",
    "# Audio hyperparamters\n",
    "sr = 22050"
   ]
  }
 ],
 "metadata": {
  "kernelspec": {
   "display_name": "Python 3",
   "language": "python",
   "name": "python3"
  },
  "language_info": {
   "codemirror_mode": {
    "name": "ipython",
    "version": 3
   },
   "file_extension": ".py",
   "mimetype": "text/x-python",
   "name": "python",
   "nbconvert_exporter": "python",
   "pygments_lexer": "ipython3",
   "version": "3.9.7"
  }
 },
 "nbformat": 4,
 "nbformat_minor": 5
}
