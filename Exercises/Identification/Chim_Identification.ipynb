{
 "cells": [
  {
   "cell_type": "code",
   "execution_count": null,
   "id": "bbef3abb",
   "metadata": {},
   "outputs": [],
   "source": [
    "import tensorflow.keras.backend as K\n",
    "import tensorflow.keras as keras\n",
    "from sklearn.metrics import confusion_matrix\n",
    "from sklearn.model_selection import train_test_split\n",
    "from tqdm.notebook import tqdm\n",
    "import numpy as np\n",
    "import scipy as sp\n",
    "import librosa\n",
    "import librosa.display\n",
    "import soundfile as sf\n",
    "import pandas as pd\n",
    "import os\n",
    "from pathlib import *\n",
    "import glob\n",
    "import shutil\n",
    "import IPython.display as ipd\n",
    "from ipywidgets import interact, fixed, FloatSlider\n",
    "%pylab\n",
    "%matplotlib inline"
   ]
  },
  {
   "cell_type": "code",
   "execution_count": null,
   "id": "a4c72ec4",
   "metadata": {},
   "outputs": [],
   "source": [
    "INPUT_PATH = Path('/net/store/cbc/projects/Pan troglodytes/audio_PH_dataset/PH/good_data/')\n",
    "file_path =  '/net/store/cv/users/ybrima/scratch/data/Luango_Speaker/clip_loango.npz'\n",
    "BASE_PATH =  '/net/store/cv/users/ybrima/scratch/data/Luango_Speaker/'\n",
    "CLASSES = os.listdir(INPUT_PATH)\n",
    "FRAME_LENGHT =  1024\n",
    "SAMPLE_RATE =  44100\n",
    "HOP_LENGTH =  512"
   ]
  },
  {
   "cell_type": "code",
   "execution_count": null,
   "id": "1464f28b",
   "metadata": {},
   "outputs": [],
   "source": [
    "def get_files(INPUT_PATH):\n",
    "    ds =  {'file': [], 'class': [], 'label':  [], 'duration': []}\n",
    "    for d in os.listdir(INPUT_PATH):\n",
    "        temp =  Path(INPUT_PATH, d)\n",
    "        if(os.path.isdir(temp)):\n",
    "            for file in temp.glob(\"**/*.wav\"):\n",
    "                filename =  Path(temp,file)\n",
    "                y,_ = librosa.load(filename, sr=SAMPLE_RATE)\n",
    "                TRACK_DURATION = (1/SAMPLE_RATE)* len(y) # measured in seconds\n",
    "                ds['file'].append(filename)\n",
    "                ds['class'].append(CLASSES.index(d))\n",
    "                ds['label'].append(d)\n",
    "                ds['duration'].append(TRACK_DURATION)\n",
    "    data = pd.DataFrame(ds)\n",
    "    data.to_csv(Path(BASE_PATH,'metadata.csv'), index=False)\n",
    "    print(f\"{data.shape[0]} files read successfully\")\n",
    "    return data"
   ]
  },
  {
   "cell_type": "code",
   "execution_count": null,
   "id": "0175d906",
   "metadata": {},
   "outputs": [],
   "source": [
    "df['class'].value_counts()"
   ]
  },
  {
   "cell_type": "code",
   "execution_count": null,
   "id": "9b8f661b",
   "metadata": {},
   "outputs": [],
   "source": [
    "file = df.sample(n=1).iloc[0,0]\n",
    "ipd.Audio(file)"
   ]
  },
  {
   "cell_type": "code",
   "execution_count": null,
   "id": "50db9651",
   "metadata": {},
   "outputs": [],
   "source": [
    "file1 = df.iloc[0,0]\n",
    "file2 = df.iloc[1,0]\n",
    "file3 = df.iloc[2,0]"
   ]
  },
  {
   "cell_type": "code",
   "execution_count": null,
   "id": "a5d0b03e",
   "metadata": {},
   "outputs": [],
   "source": [
    "y,sr =  librosa.load(file1,sr=None)\n",
    "y1,sr =  librosa.load(file2,sr=None)\n",
    "y2,sr =  librosa.load(file3,sr=None)"
   ]
  },
  {
   "cell_type": "code",
   "execution_count": null,
   "id": "e02d26f3",
   "metadata": {},
   "outputs": [],
   "source": [
    "print(len(y) * (1/sr))\n",
    "print(len(y1) * (1/sr))\n",
    "print(len(y2) * (1/sr))"
   ]
  },
  {
   "cell_type": "code",
   "execution_count": null,
   "id": "922fdc16",
   "metadata": {},
   "outputs": [],
   "source": [
    "df.head()"
   ]
  },
  {
   "cell_type": "code",
   "execution_count": null,
   "id": "459c1ca3",
   "metadata": {},
   "outputs": [],
   "source": [
    "max_idx = df[df['duration'] == df['duration'].max()].index\n",
    "min_idx = df[df['duration'] == df['duration'].min()].index\n",
    "df.iloc[max_idx]"
   ]
  },
  {
   "cell_type": "code",
   "execution_count": null,
   "id": "034ea7ed",
   "metadata": {},
   "outputs": [],
   "source": [
    "df.iloc[min_idx]"
   ]
  },
  {
   "cell_type": "code",
   "execution_count": null,
   "id": "4b56bffa",
   "metadata": {},
   "outputs": [],
   "source": [
    "yy,sr =  librosa.load(df.iloc[max_idx[0],0],sr=None)"
   ]
  },
  {
   "cell_type": "code",
   "execution_count": null,
   "id": "ae364f6e",
   "metadata": {},
   "outputs": [],
   "source": [
    "y,sr =  librosa.load(df.iloc[min_idx[0],0],sr=None)"
   ]
  },
  {
   "cell_type": "code",
   "execution_count": null,
   "id": "b068d557",
   "metadata": {},
   "outputs": [],
   "source": [
    "def init_outfiles():\n",
    "    CLEAN_PATH =  Path(BASE_PATH,'good_data')\n",
    "    if(not os.path.exists(CLEAN_PATH)):\n",
    "        os.mkdir(CLEAN_PATH)\n",
    "        print(f'Base directory successfully created at {CLEAN_PATH}')\n",
    "    for d in os.listdir(INPUT_PATH):\n",
    "        if(not os.path.exists(Path(CLEAN_PATH,d))):\n",
    "            os.mkdir(Path(CLEAN_PATH,d))\n",
    "            print(f'Base directory successfully created at {Path(CLEAN_PATH,d)}')\n",
    "    print(f'Process completed successfully {len(os.listdir(INPUT_PATH))} directories created')\n"
   ]
  },
  {
   "cell_type": "code",
   "execution_count": null,
   "id": "d6e1c927",
   "metadata": {},
   "outputs": [],
   "source": [
    "CLEAN_PATH =  Path(BASE_PATH,'good_data')"
   ]
  },
  {
   "cell_type": "code",
   "execution_count": null,
   "id": "b0499c52",
   "metadata": {},
   "outputs": [],
   "source": [
    "def get_files_updated(INPUT_PATH):\n",
    "    df = get_files(INPUT_PATH)\n",
    "    max_idx = df[df['duration'] == df['duration'].max()].index\n",
    "    min_idx = df[df['duration'] == df['duration'].min()].index\n",
    "    yy,sr =  librosa.load(df.iloc[max_idx[0],0],sr=None)\n",
    "\n",
    "\n",
    "    ds =  {'file': [], 'class': [], 'label':  [], 'duration': []}\n",
    "    for d in os.listdir(INPUT_PATH):\n",
    "        temp =  Path(INPUT_PATH, d)\n",
    "        out_temp = Path(CLEAN_PATH, d)\n",
    "        if(os.path.isdir(temp)):\n",
    "            for file in temp.glob(\"**/*.wav\"):\n",
    "                filename =  Path(temp,file)\n",
    "                outfile = Path(out_temp,file.name)\n",
    "                y,sr = librosa.load(filename, sr=SAMPLE_RATE)\n",
    "                dff =  int(np.ceil( len(yy) - len(y) ) / 2)\n",
    "                a  = np.lib.pad(y, (int(np.floor(dff)) ,), 'symmetric')\n",
    "                TRACK_DURATION = (1/SAMPLE_RATE)* len(a) # measured in seconds\n",
    "                sf.write(outfile,a,sr)\n",
    "                ds['file'].append(outfile)\n",
    "                ds['class'].append(CLASSES.index(d))\n",
    "                ds['label'].append(d)\n",
    "                ds['duration'].append(TRACK_DURATION)\n",
    "    data = pd.DataFrame(ds)\n",
    "    data.to_csv(Path(BASE_PATH,'metadata_clean.csv'), index=False)\n",
    "    print(f\"{data.shape[0]} files read successfully\")\n",
    "    return data"
   ]
  },
  {
   "cell_type": "code",
   "execution_count": null,
   "id": "29f11f0c",
   "metadata": {},
   "outputs": [],
   "source": [
    "df = get_files_updated(INPUT_PATH)"
   ]
  },
  {
   "cell_type": "code",
   "execution_count": null,
   "id": "aabeb299",
   "metadata": {},
   "outputs": [],
   "source": [
    "df.head()"
   ]
  },
  {
   "cell_type": "code",
   "execution_count": null,
   "id": "7566106a",
   "metadata": {},
   "outputs": [],
   "source": [
    "plt.figure(figsize=(12,6))\n",
    "plt.subplot(121)\n",
    "librosa.display.waveplot(y,sr=sr)\n",
    "plt.title(\"Shortest Recording\")\n",
    "plt.subplot(122)\n",
    "librosa.display.waveplot(yy,sr=sr)\n",
    "plt.title(\"Longest Recording\")\n",
    "plt.show()"
   ]
  },
  {
   "cell_type": "code",
   "execution_count": null,
   "id": "3e834254",
   "metadata": {},
   "outputs": [],
   "source": [
    "q = df.sample(n=1)\n",
    "q"
   ]
  },
  {
   "cell_type": "code",
   "execution_count": null,
   "id": "b5a37fa7",
   "metadata": {},
   "outputs": [],
   "source": [
    "q,sr =  librosa.load(q.iloc[0,0],sr=None)"
   ]
  },
  {
   "cell_type": "code",
   "execution_count": null,
   "id": "66ef13a7",
   "metadata": {},
   "outputs": [],
   "source": [
    "dff =  int(np.ceil( len(yy) - len(q) ) / 2)\n",
    "a =  q"
   ]
  },
  {
   "cell_type": "code",
   "execution_count": null,
   "id": "0b38fae1",
   "metadata": {},
   "outputs": [],
   "source": [
    "a  = np.lib.pad(a, (int(np.floor(dff)) ,), 'symmetric')"
   ]
  },
  {
   "cell_type": "code",
   "execution_count": null,
   "id": "2a116c47",
   "metadata": {},
   "outputs": [],
   "source": [
    "def process_files(df):\n",
    "    for k in range(df.shape[0]):"
   ]
  },
  {
   "cell_type": "code",
   "execution_count": null,
   "id": "21952499",
   "metadata": {},
   "outputs": [],
   "source": [
    "librosa.display.waveplot(a,sr=sr)"
   ]
  },
  {
   "cell_type": "code",
   "execution_count": null,
   "id": "1e4bfc13",
   "metadata": {},
   "outputs": [],
   "source": [
    "plt.figure(figsize=(12,6))\n",
    "plt.subplot(121)\n",
    "librosa.display.waveplot(a,sr=sr)\n",
    "plt.title(\"Shortest Recording\")\n",
    "plt.subplot(122)\n",
    "librosa.display.waveplot(yy,sr=sr)\n",
    "plt.title(\"Longest Recording\")\n",
    "plt.show()"
   ]
  },
  {
   "cell_type": "code",
   "execution_count": null,
   "id": "83c7cd36",
   "metadata": {},
   "outputs": [],
   "source": [
    "sf.write(Path(BASE_PATH,'symmetric_padding.wav'),a,sr)"
   ]
  },
  {
   "cell_type": "code",
   "execution_count": null,
   "id": "f12b709e",
   "metadata": {},
   "outputs": [],
   "source": [
    "df['label'].value_counts()"
   ]
  },
  {
   "cell_type": "code",
   "execution_count": null,
   "id": "051b4abc",
   "metadata": {},
   "outputs": [],
   "source": [
    "y,_ =  librosa.load(file,sr=SAMPLE_RATE)"
   ]
  },
  {
   "cell_type": "code",
   "execution_count": null,
   "id": "54fb91ac",
   "metadata": {},
   "outputs": [],
   "source": [
    "librosa.display.waveplot(y)"
   ]
  },
  {
   "cell_type": "code",
   "execution_count": null,
   "id": "ceb30ca2",
   "metadata": {},
   "outputs": [],
   "source": [
    "samples = df.sample(n=16,replace=False)\n",
    "fig =  plt.figure(1,figsize=(24,14))\n",
    "for k in range(samples.shape[0]):\n",
    "    r =  df.iloc[k]\n",
    "    file = r[0]\n",
    "    y,_ = librosa.load(file,sr=SAMPLE_RATE)\n",
    "    ax =  fig.add_subplot(4,4,k+1)\n",
    "    librosa.display.waveplot(y, sr=sr)\n",
    "    ax.set_title(f\"{r[2]}  {str(file.name)}\")\n",
    "plt.tight_layout()\n",
    "plt.show()"
   ]
  },
  {
   "cell_type": "code",
   "execution_count": null,
   "id": "84a77edb",
   "metadata": {},
   "outputs": [],
   "source": [
    "y, sr = librosa.load(librosa.util.example_audio_file())\n"
   ]
  },
  {
   "cell_type": "code",
   "execution_count": null,
   "id": "4c737cdb",
   "metadata": {},
   "outputs": [],
   "source": [
    "file"
   ]
  },
  {
   "cell_type": "code",
   "execution_count": null,
   "id": "5ec55dad",
   "metadata": {},
   "outputs": [],
   "source": [
    "y,_ = librosa.load(file,sr=SAMPLE_RATE,duration=17)"
   ]
  },
  {
   "cell_type": "code",
   "execution_count": null,
   "id": "c6715356",
   "metadata": {},
   "outputs": [],
   "source": [
    "out_file ='/net/store/cv/users/ybrima/scratch/data/EDA/clip21_loango_updated.wav'"
   ]
  },
  {
   "cell_type": "code",
   "execution_count": null,
   "id": "2248b41b",
   "metadata": {},
   "outputs": [],
   "source": [
    "import noisereduce as nr\n",
    "reduced_noise = nr.reduce_noise(y=y, sr=SAMPLE_RATE)"
   ]
  },
  {
   "cell_type": "code",
   "execution_count": null,
   "id": "afb61f0d",
   "metadata": {},
   "outputs": [],
   "source": [
    "librosa.display.waveplot(reduced_noise)"
   ]
  },
  {
   "cell_type": "code",
   "execution_count": null,
   "id": "527314de",
   "metadata": {},
   "outputs": [],
   "source": [
    "ft =  sp.fft.fft(y)\n",
    "magnitude =  abs(ft)\n",
    "freq =  np.linspace(0,SAMPLE_RATE,len(magnitude))\n"
   ]
  },
  {
   "cell_type": "code",
   "execution_count": null,
   "id": "78cdf5f4",
   "metadata": {},
   "outputs": [],
   "source": [
    "# plot spectrum\n",
    "\n",
    "# Next we want to visualize the rmse for the  audio wave \n",
    "\n",
    "plt.figure(1,figsize=(18,8))\n",
    "plt.plot(freq,magnitude)\n",
    "plt.xlabel(\"Frequency (Hz)\")\n",
    "plt.ylabel(\"Magnitude\")\n",
    "plt.xticks(np.arange(min(freq), max(freq)+1, 1500.0))\n",
    "plt.xlim([0,max(freq)])\n",
    "plt.title(\"Fast Fourier Transform\")\n",
    "# plt.savefig(f'{figpath}/FFT.pdf', dpi=300)\n",
    "plt.show()\n"
   ]
  },
  {
   "cell_type": "code",
   "execution_count": null,
   "id": "eedca0e8",
   "metadata": {},
   "outputs": [],
   "source": [
    "# yy.shape"
   ]
  },
  {
   "cell_type": "code",
   "execution_count": null,
   "id": "056111dd",
   "metadata": {},
   "outputs": [],
   "source": [
    "from scipy import signal"
   ]
  },
  {
   "cell_type": "code",
   "execution_count": null,
   "id": "31e940f5",
   "metadata": {},
   "outputs": [],
   "source": [
    "b = signal.firwin(101, cutoff=1000, fs=SAMPLE_RATE, pass_zero=False)\n",
    "x = signal.lfilter(b, [1.0], y)\n"
   ]
  },
  {
   "cell_type": "code",
   "execution_count": null,
   "id": "e087a382",
   "metadata": {},
   "outputs": [],
   "source": [
    "ft =  sp.fft.fft(x)\n",
    "magnitude =  abs(ft)\n",
    "freq =  np.linspace(0,SAMPLE_RATE,len(magnitude))\n",
    "\n",
    "# plot spectrum\n",
    "\n",
    "# Next we want to visualize the rmse for the  audio wave \n",
    "\n",
    "plt.figure(1,figsize=(18,8))\n",
    "plt.plot(freq,magnitude)\n",
    "plt.xlabel(\"Frequency (Hz)\")\n",
    "plt.ylabel(\"Magnitude\")\n",
    "plt.xticks(np.arange(min(freq), max(freq)+1, 1500.0))\n",
    "plt.xlim([0,max(freq)])\n",
    "plt.title(\"Fast Fourier Transform\")\n",
    "# plt.savefig(f'{figpath}/FFT.pdf', dpi=300)\n",
    "plt.show()"
   ]
  },
  {
   "cell_type": "code",
   "execution_count": null,
   "id": "844f28c9",
   "metadata": {},
   "outputs": [],
   "source": [
    "file_path =  '/net/store/cv/users/ybrima/scratch/data/Luango_Speaker/clip_loango.npz'"
   ]
  },
  {
   "cell_type": "code",
   "execution_count": null,
   "id": "d4c5fe00",
   "metadata": {},
   "outputs": [],
   "source": [
    "X  = []\n",
    "y =  []\n",
    "num_segments = 5\n",
    "num_mfcc= 32\n",
    "n_fft=2048\n",
    "FRAME_LENGHT =  2048\n",
    "\n",
    "for k in range(df.shape[0]):\n",
    "    r =  df.iloc[k]\n",
    "    \n",
    "    #   Loading the audio file \n",
    "    yy,sample_rate = librosa.load(r['file'], sr=SAMPLE_RATE)\n",
    "    TRACK_DURATION = (1/SAMPLE_RATE)* len(signal) # measured in seconds\n",
    "    SAMPLES_PER_TRACK = SAMPLE_RATE * TRACK_DURATION\n",
    "    \n",
    "    \n",
    "    for i in range(0,len(yy),HOP_LENGTH):\n",
    "        signal = yy[i:i+samples_per_segment]\n",
    "        if(len(signal) == samples_per_segment):\n",
    "            # extract mfcc\n",
    "            D = librosa.amplitude_to_db(np.abs(librosa.stft(signal)), ref=np.max)\n",
    "            X.append(D)\n",
    "            y.append(CLASSES.index(r['label']))\n",
    "\n",
    "X =  np.array(X)\n",
    "y =  np.array(y)\n",
    "np.savez(file_path,x=X,y=y)\n",
    "print(f\"Data written to storage successfully, path = {file_path}\")"
   ]
  },
  {
   "cell_type": "code",
   "execution_count": null,
   "id": "57de8eba",
   "metadata": {},
   "outputs": [],
   "source": [
    "sf.write(out_file,reduced_noise,SAMPLE_RATE)"
   ]
  },
  {
   "cell_type": "code",
   "execution_count": null,
   "id": "d04a6fef",
   "metadata": {},
   "outputs": [],
   "source": [
    "# frames =  range(0,y.size)\n",
    "# t  = librosa.frames_to_time(frames,hop_length=HOP_LENGTH)\n",
    "\n",
    "\n",
    "import tensorflow as tf\n",
    "from tensorflow.keras.layers import Conv1D,Conv1DTranspose,Concatenate,Input"
   ]
  },
  {
   "cell_type": "code",
   "execution_count": null,
   "id": "36d29c71",
   "metadata": {},
   "outputs": [],
   "source": []
  }
 ],
 "metadata": {
  "kernelspec": {
   "display_name": "Python 3",
   "language": "python",
   "name": "python3"
  },
  "language_info": {
   "codemirror_mode": {
    "name": "ipython",
    "version": 3
   },
   "file_extension": ".py",
   "mimetype": "text/x-python",
   "name": "python",
   "nbconvert_exporter": "python",
   "pygments_lexer": "ipython3",
   "version": "3.9.7-final"
  }
 },
 "nbformat": 4,
 "nbformat_minor": 5
}