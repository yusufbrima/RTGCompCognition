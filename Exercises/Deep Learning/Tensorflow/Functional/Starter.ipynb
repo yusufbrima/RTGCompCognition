{
 "cells": [
  {
   "cell_type": "code",
   "execution_count": 82,
   "id": "fd3a9188",
   "metadata": {},
   "outputs": [],
   "source": [
    "import tensorflow.keras.backend as K\n",
    "import tensorflow.keras as keras\n",
    "from sklearn.metrics import confusion_matrix\n",
    "from sklearn.model_selection import train_test_split\n",
    "from sklearn.datasets import make_classification,make_regression\n",
    "import numpy as np \n",
    "import matplotlib.pyplot as plt \n",
    "import os \n",
    "import itertools\n",
    "import random"
   ]
  },
  {
   "cell_type": "code",
   "execution_count": 2,
   "id": "12ef68b1",
   "metadata": {},
   "outputs": [],
   "source": [
    "def build_model():\n",
    "    \"\"\" This function builds a functional model\"\"\"\n",
    "    \n",
    "\n",
    "    inputs =  keras.Input(shape=(28,28),name=\"input_layer\")\n",
    "    x =  keras.layers.Flatten()(inputs)\n",
    "    \n",
    "    x =  keras.layers.Dense(32,activation=\"relu\")(x)\n",
    "    x =  keras.layers.BatchNormalization()(x)\n",
    "    x =  keras.layers.Dropout(0.3)(x)\n",
    "\n",
    "    x =  keras.layers.Dense(64,activation=\"relu\")(x)\n",
    "    x =  keras.layers.BatchNormalization()(x)\n",
    "    x =  keras.layers.Dropout(0.3)(x)\n",
    "    \n",
    "    x =  keras.layers.Dense(128,activation=\"relu\")(x)\n",
    "    x =  keras.layers.BatchNormalization()(x)\n",
    "    x =  keras.layers.Dropout(0.3)(x)\n",
    "    \n",
    "    x =  keras.layers.Dense(64,activation=\"relu\")(x)\n",
    "    x =  keras.layers.BatchNormalization()(x)\n",
    "    x =  keras.layers.Dropout(0.3)(x)\n",
    "    \n",
    "    x =  keras.layers.Dense(32,activation=\"relu\")(x)\n",
    "    x =  keras.layers.BatchNormalization()(x)\n",
    "    x =  keras.layers.Dropout(0.3)(x)\n",
    "\n",
    "    outputs =  keras.layers.Dense(10,activation=\"softmax\")(x)\n",
    "\n",
    "\n",
    "    model =  keras.Model(inputs=inputs,outputs=outputs,name=\"mnist_model\")\n",
    "    \n",
    "    model.compile(loss=\"sparse_categorical_crossentropy\", optimizer=keras.optimizers.RMSprop(),metrics=[\"accuracy\"],)\n",
    "    \n",
    "    return model"
   ]
  },
  {
   "cell_type": "code",
   "execution_count": 3,
   "id": "286e1f96",
   "metadata": {},
   "outputs": [],
   "source": [
    "(x_train, y_train), (x_test, y_test) = keras.datasets.mnist.load_data()"
   ]
  },
  {
   "cell_type": "code",
   "execution_count": 4,
   "id": "e448961f",
   "metadata": {},
   "outputs": [
    {
     "data": {
      "image/png": "[encoded data removed]",
      "text/plain": [
       "<Figure size 864x432 with 9 Axes>"
      ]
     },
     "metadata": {
      "needs_background": "light"
     },
     "output_type": "display_data"
    }
   ],
   "source": [
    "plt.figure(figsize=(12,6))\n",
    "samples = np.random.randint(0,len(x_train),9)\n",
    "for i in range(len(samples)):\n",
    "    plt.subplot(3,3,i+1)\n",
    "    plt.imshow(x_train[samples[i]],interpolation='nearest')\n",
    "    plt.title(str(y_train[samples[i]]))\n",
    "    plt.axis(\"off\")"
   ]
  },
  {
   "cell_type": "code",
   "execution_count": 5,
   "id": "de35e831",
   "metadata": {},
   "outputs": [],
   "source": [
    "model = build_model()"
   ]
  },
  {
   "cell_type": "code",
   "execution_count": 6,
   "id": "5d248021",
   "metadata": {},
   "outputs": [],
   "source": [
    "x_train = x_train.astype(\"float32\") / 255\n",
    "x_test = x_test.astype(\"float32\") / 255"
   ]
  },
  {
   "cell_type": "code",
   "execution_count": 7,
   "id": "846dcd4e",
   "metadata": {},
   "outputs": [
    {
     "name": "stdout",
     "output_type": "stream",
     "text": [
      "Epoch 1/2\n",
      "1500/1500 [==============================] - 5s 3ms/step - loss: 1.0008 - accuracy: 0.6928 - val_loss: 0.2733 - val_accuracy: 0.9222\n",
      "Epoch 2/2\n",
      "1500/1500 [==============================] - 4s 3ms/step - loss: 0.5567 - accuracy: 0.8476 - val_loss: 0.2477 - val_accuracy: 0.9293\n"
     ]
    }
   ],
   "source": [
    "history = model.fit(x_train, y_train, batch_size=32, epochs=2, validation_split=0.2)"
   ]
  },
  {
   "cell_type": "code",
   "execution_count": null,
   "id": "d5a26f1f",
   "metadata": {},
   "outputs": [],
   "source": [
    "# keras.utils.plot_model(model,\"model.png\",show_shapes=True)"
   ]
  },
  {
   "cell_type": "code",
   "execution_count": 8,
   "id": "d95fab87",
   "metadata": {},
   "outputs": [
    {
     "name": "stdout",
     "output_type": "stream",
     "text": [
      "313/313 - 0s - loss: 0.2561 - accuracy: 0.9286\n",
      "Test loss: 0.25613054633140564\n",
      "Test accuracy: 0.928600013256073\n"
     ]
    }
   ],
   "source": [
    "test_scores = model.evaluate(x_test, y_test, verbose=2)\n",
    "print(\"Test loss:\", test_scores[0])\n",
    "print(\"Test accuracy:\", test_scores[1])"
   ]
  },
  {
   "cell_type": "code",
   "execution_count": 9,
   "id": "ee076662",
   "metadata": {},
   "outputs": [],
   "source": [
    "def build_model():\n",
    "\n",
    "    encoder_input =  keras.Input(shape=(28,28,1),name=\"img\")\n",
    "\n",
    "    x =  keras.layers.Conv2D(16, 3,activation=\"relu\")(encoder_input)\n",
    "    x = keras.layers.Conv2D(32, 3, activation=\"relu\")(x)\n",
    "    x = keras.layers.MaxPooling2D(3)(x)\n",
    "    x = keras.layers.Conv2D(32, 3, activation=\"relu\")(x)\n",
    "    x = keras.layers.Conv2D(16, 3, activation=\"relu\")(x)\n",
    "    encoder_output =  keras.layers.GlobalMaxPooling2D()(x)\n",
    "    \n",
    "    encoder = keras.Model(encoder_input, encoder_output, name=\"encoder\")\n",
    "    \n",
    "    # We are building an autoencoder now     \n",
    "    x = keras.layers.Reshape((4, 4, 1))(encoder_output)\n",
    "    x = keras.layers.Conv2DTranspose(16, 3, activation=\"relu\")(x)\n",
    "    x = keras.layers.Conv2DTranspose(32, 3, activation=\"relu\")(x)\n",
    "    x = keras.layers.UpSampling2D(3)(x)\n",
    "    x = keras.layers.Conv2DTranspose(16, 3, activation=\"relu\")(x)\n",
    "    decoder_output = keras.layers.Conv2DTranspose(1, 3, activation=\"relu\")(x)\n",
    "\n",
    "    autoencoder = keras.Model(encoder_input, decoder_output, name=\"autoencoder\")\n",
    "    return encoder,autoencoder"
   ]
  },
  {
   "cell_type": "code",
   "execution_count": 10,
   "id": "40c453f9",
   "metadata": {},
   "outputs": [],
   "source": [
    "encoder,autoencoder =  build_model()"
   ]
  },
  {
   "cell_type": "code",
   "execution_count": null,
   "id": "ba4dd00d",
   "metadata": {},
   "outputs": [],
   "source": [
    "encoder.summary()"
   ]
  },
  {
   "cell_type": "code",
   "execution_count": null,
   "id": "c1f1affd",
   "metadata": {},
   "outputs": [],
   "source": [
    "autoencoder.summary()"
   ]
  },
  {
   "cell_type": "code",
   "execution_count": 12,
   "id": "055ef4d6",
   "metadata": {},
   "outputs": [],
   "source": [
    "# keras.utils.plot_model(autoencoder,'autoencoder.png',show_shapes=True)"
   ]
  },
  {
   "cell_type": "code",
   "execution_count": 13,
   "id": "19193f59",
   "metadata": {},
   "outputs": [],
   "source": [
    "def build_multi_model():\n",
    "    \"\"\" This function builds a functional model\"\"\"\n",
    "    \n",
    "\n",
    "    inputs =  keras.Input(shape=(784,),name=\"input_layer\")\n",
    "    \n",
    "    x =  keras.layers.Dense(32,activation=\"relu\")(inputs)\n",
    "    x =  keras.layers.BatchNormalization()(x)\n",
    "    x =  keras.layers.Dropout(0.3)(x)\n",
    "\n",
    "    x =  keras.layers.Dense(64,activation=\"relu\")(x)\n",
    "    x =  keras.layers.BatchNormalization()(x)\n",
    "    x =  keras.layers.Dropout(0.3)(x)\n",
    "    \n",
    "    x =  keras.layers.Dense(128,activation=\"relu\")(x)\n",
    "    x =  keras.layers.BatchNormalization()(x)\n",
    "    x =  keras.layers.Dropout(0.3)(x)\n",
    "    \n",
    "    x =  keras.layers.Dense(64,activation=\"relu\")(x)\n",
    "    x =  keras.layers.BatchNormalization()(x)\n",
    "    x =  keras.layers.Dropout(0.3)(x)\n",
    "    \n",
    "    x =  keras.layers.Dense(32,activation=\"relu\")(x)\n",
    "    x =  keras.layers.BatchNormalization()(x)\n",
    "    x =  keras.layers.Dropout(0.3)(x)\n",
    "\n",
    "    outputs_identity =  keras.layers.Dense(10,activation=\"softmax\",name=\"department\")(x)\n",
    "    \n",
    "    outputs_gender =  keras.layers.Dense(2,activation=\"softmax\",name=\"gender\")(x)\n",
    "\n",
    "\n",
    "    model =  keras.Model(inputs=inputs,outputs=[outputs_identity, outputs_gender],name=\"mnist_model\")\n",
    "    #     loss=[\"sparse_categorical_crossentropy\",keras.losses.BinaryCrossentropy()], \n",
    "    model.compile(\n",
    "        loss=[\"sparse_categorical_crossentropy\",\"sparse_categorical_crossentropy\"],\n",
    "        optimizer=keras.optimizers.RMSprop(1e-3),\n",
    "        metrics = [\"accuracy\"]\n",
    "        )\n",
    "    \n",
    "    return model"
   ]
  },
  {
   "cell_type": "code",
   "execution_count": 14,
   "id": "95284829",
   "metadata": {},
   "outputs": [],
   "source": [
    "# Here we are generating fake data\n",
    "X,y =  make_classification(n_samples=100000, n_features=784,n_classes=10,n_clusters_per_class=4,n_informative=10)"
   ]
  },
  {
   "cell_type": "code",
   "execution_count": 15,
   "id": "182daad1",
   "metadata": {},
   "outputs": [],
   "source": [
    "y_2 = np.random.choice([0,1],len(y))  "
   ]
  },
  {
   "cell_type": "code",
   "execution_count": 16,
   "id": "458d7a69",
   "metadata": {},
   "outputs": [],
   "source": [
    "model = build_multi_model()"
   ]
  },
  {
   "cell_type": "code",
   "execution_count": null,
   "id": "2b465042",
   "metadata": {},
   "outputs": [],
   "source": [
    "# model.summary()"
   ]
  },
  {
   "cell_type": "code",
   "execution_count": null,
   "id": "f27eac68",
   "metadata": {},
   "outputs": [],
   "source": [
    "# keras.utils.plot_model(model,'multitask.png',show_shapes=True)"
   ]
  },
  {
   "cell_type": "code",
   "execution_count": 17,
   "id": "fcb75543",
   "metadata": {},
   "outputs": [],
   "source": [
    "X  = X.astype(\"float32\")"
   ]
  },
  {
   "cell_type": "code",
   "execution_count": 18,
   "id": "5a29bd8c",
   "metadata": {},
   "outputs": [
    {
     "name": "stdout",
     "output_type": "stream",
     "text": [
      "Epoch 1/2\n",
      "3125/3125 [==============================] - 11s 3ms/step - loss: 3.0462 - department_loss: 2.3276 - gender_loss: 0.7186 - department_accuracy: 0.1422 - gender_accuracy: 0.4984\n",
      "Epoch 2/2\n",
      "3125/3125 [==============================] - 9s 3ms/step - loss: 2.8470 - department_loss: 2.1528 - gender_loss: 0.6942 - department_accuracy: 0.2157 - gender_accuracy: 0.4985\n"
     ]
    },
    {
     "data": {
      "text/plain": [
       "<keras.callbacks.History at 0x7ff9987d88e0>"
      ]
     },
     "execution_count": 18,
     "metadata": {},
     "output_type": "execute_result"
    }
   ],
   "source": [
    "model.fit(x = X,y= {\"department\": y,\"gender\": y_2},epochs=2,batch_size=32)"
   ]
  },
  {
   "cell_type": "code",
   "execution_count": 19,
   "id": "26a2da9f",
   "metadata": {},
   "outputs": [],
   "source": [
    "def build_resnet():\n",
    "    \"\"\" This function builds a functional model\"\"\"\n",
    "    \n",
    "\n",
    "    inputs =  keras.Input(shape=(784,),name=\"input_layer\")\n",
    "    \n",
    "    x =  keras.layers.Dense(64,activation=\"relu\")(inputs)\n",
    "    x =  keras.layers.BatchNormalization()(x)\n",
    "    x =  keras.layers.Dropout(0.3)(x)\n",
    "    block_1_output = x\n",
    "    \n",
    "    x =  keras.layers.Dense(64,activation=\"relu\")(block_1_output)\n",
    "    x =  keras.layers.BatchNormalization()(x)\n",
    "    x =  keras.layers.Dropout(0.3)(x)\n",
    "    block_2_output =  keras.layers.add([x,block_1_output])\n",
    "    \n",
    "    x =  keras.layers.Dense(128,activation=\"relu\")(block_2_output)\n",
    "    x =  keras.layers.BatchNormalization()(x)\n",
    "    x =  keras.layers.Dropout(0.3)(x)\n",
    "    block_3_output =  x\n",
    "    \n",
    "    x =  keras.layers.Dense(128,activation=\"relu\")(block_3_output)\n",
    "    x =  keras.layers.BatchNormalization()(x)\n",
    "    x =  keras.layers.Dropout(0.3)(x)\n",
    "    block_4_output =  keras.layers.add([x,block_3_output])\n",
    "    \n",
    "    \n",
    "    x =  keras.layers.Dense(64,activation=\"relu\")(block_4_output)\n",
    "    x =  keras.layers.BatchNormalization()(x)\n",
    "    x =  keras.layers.Dropout(0.3)(x)\n",
    "    block_5_output =  keras.layers.add([x,block_1_output])\n",
    "    x_train = x_train.astype(\"float32\") / 255\n",
    "x_test = x_test.astype(\"float32\") / 255\n",
    "    \n",
    "    x =  keras.layers.Dense(32,activation=\"relu\")(block_5_output)\n",
    "    x =  keras.layers.BatchNormalization()(x)\n",
    "    x =  keras.layers.Dropout(0.3)(x)\n",
    "\n",
    "    outputs_identity =  keras.layers.Dense(10,activation=\"softmax\",name=\"department\")(x)\n",
    "    \n",
    "    outputs_gender =  keras.layers.Dense(2,activation=\"softmax\",name=\"gender\")(x)\n",
    "\n",
    "\n",
    "    model =  keras.Model(inputs=inputs,outputs=[outputs_identity, outputs_gender],name=\"mnist_model\")\n",
    "    #     loss=[\"sparse_categorical_crossentropy\",keras.losses.BinaryCrossentropy()], \n",
    "    model.compile(\n",
    "        loss=[\"sparse_categorical_crossentropy\",\"sparse_categorical_crossentropy\"],\n",
    "        optimizer=keras.optimizers.RMSprop(1e-3),\n",
    "        metrics = [\"accuracy\"]\n",
    "        )\n",
    "    \n",
    "    return model"
   ]
  },
  {
   "cell_type": "code",
   "execution_count": 20,
   "id": "869c4859",
   "metadata": {},
   "outputs": [],
   "source": [
    "model = build_resnet()"
   ]
  },
  {
   "cell_type": "code",
   "execution_count": null,
   "id": "68bcb6da",
   "metadata": {},
   "outputs": [],
   "source": [
    "# model.summary()"
   ]
  },
  {
   "cell_type": "code",
   "execution_count": null,
   "id": "c24587ed",
   "metadata": {},
   "outputs": [],
   "source": [
    "# keras.utils.plot_model(model,'psudoresnet.png',show_shapes=True)"
   ]
  },
  {
   "cell_type": "code",
   "execution_count": 21,
   "id": "2f385e01",
   "metadata": {},
   "outputs": [
    {
     "name": "stdout",
     "output_type": "stream",
     "text": [
      "Epoch 1/2\n",
      "2500/2500 [==============================] - 10s 4ms/step - loss: 3.0201 - department_loss: 2.2980 - gender_loss: 0.7221 - department_accuracy: 0.1667 - gender_accuracy: 0.5021 - val_loss: 2.7704 - val_department_loss: 2.0766 - val_gender_loss: 0.6938 - val_department_accuracy: 0.2474 - val_gender_accuracy: 0.5018\n",
      "Epoch 2/2\n",
      "2500/2500 [==============================] - 9s 3ms/step - loss: 2.7740 - department_loss: 2.0796 - gender_loss: 0.6944 - department_accuracy: 0.2522 - gender_accuracy: 0.4986 - val_loss: 2.6408 - val_department_loss: 1.9470 - val_gender_loss: 0.6938 - val_department_accuracy: 0.3115 - val_gender_accuracy: 0.4979\n"
     ]
    }
   ],
   "source": [
    "history = model.fit(x = X,y= {\"department\": y,\"gender\": y_2},epochs=2,batch_size=32,validation_split=0.2)"
   ]
  },
  {
   "cell_type": "code",
   "execution_count": 22,
   "id": "2054745e",
   "metadata": {},
   "outputs": [
    {
     "data": {
      "text/plain": [
       "[<matplotlib.lines.Line2D at 0x7ff994627dc0>]"
      ]
     },
     "execution_count": 22,
     "metadata": {},
     "output_type": "execute_result"
    },
    {
     "data": {
      "image/png": "[encoded data removed]",
      "text/plain": [
       "<Figure size 432x288 with 1 Axes>"
      ]
     },
     "metadata": {
      "needs_background": "light"
     },
     "output_type": "display_data"
    }
   ],
   "source": [
    "plt.plot(history.history['department_loss'])\n",
    "plt.plot(history.history['gender_loss'])"
   ]
  },
  {
   "cell_type": "code",
   "execution_count": 33,
   "id": "c0d573eb",
   "metadata": {},
   "outputs": [],
   "source": [
    "def resnet():\n",
    "    inputs = keras.Input(shape=(28, 28, 1), name=\"img\")\n",
    "    x = keras.layers.Conv2D(32, 3, activation=\"relu\")(inputs)\n",
    "    x = keras.layers.Conv2D(64, 3, activation=\"relu\")(x)\n",
    "    block_1_output = keras.layers.MaxPooling2D(3)(x)\n",
    "\n",
    "    x = keras.layers.Conv2D(64, 3, activation=\"relu\", padding=\"same\")(block_1_output)\n",
    "    x = keras.layers.Conv2D(64, 3, activation=\"relu\", padding=\"same\")(x)\n",
    "    block_2_output = keras.layers.add([x, block_1_output])\n",
    "\n",
    "    x = keras.layers.Conv2D(64, 3, activation=\"relu\", padding=\"same\")(block_2_output)\n",
    "    x = keras.layers.Conv2D(64, 3, activation=\"relu\", padding=\"same\")(x)\n",
    "    block_3_output = keras.layers.add([x, block_2_output])\n",
    "\n",
    "    x = keras.layers.Conv2D(64, 3, activation=\"relu\")(block_3_output)\n",
    "    x = keras.layers.GlobalAveragePooling2D()(x)\n",
    "    x = keras.layers.Dense(256, activation=\"relu\")(x)\n",
    "    x = keras.layers.Dropout(0.5)(x)\n",
    "#     outputs = layers.Dense(10)(x)\n",
    "    \n",
    "    outputs_identity =  keras.layers.Dense(10,activation=\"softmax\",name=\"department\")(x)\n",
    "    \n",
    "    outputs_gender =  keras.layers.Dense(2,activation=\"softmax\",name=\"gender\")(x)\n",
    "\n",
    "\n",
    "    model =  keras.Model(inputs=inputs,outputs=[outputs_identity, outputs_gender],name=\"toy_resnet\")\n",
    "    #     loss=[\"sparse_categorical_crossentropy\",keras.losses.BinaryCrossentropy()], \n",
    "    model.compile(\n",
    "        loss=[\"sparse_categorical_crossentropy\",\"sparse_categorical_crossentropy\"],\n",
    "        optimizer=keras.optimizers.RMSprop(1e-3),\n",
    "        metrics = [\"accuracy\"]\n",
    "        )\n",
    "    return model"
   ]
  },
  {
   "cell_type": "code",
   "execution_count": 27,
   "id": "03de7962",
   "metadata": {},
   "outputs": [],
   "source": [
    "(x_train, y_train), (x_test, y_test) = keras.datasets.mnist.load_data()\n",
    "x_train = x_train.astype(\"float32\") / 255\n",
    "x_test = x_test.astype(\"float32\") / 255"
   ]
  },
  {
   "cell_type": "code",
   "execution_count": 34,
   "id": "325f5a3f",
   "metadata": {},
   "outputs": [],
   "source": [
    "model =  resnet()"
   ]
  },
  {
   "cell_type": "code",
   "execution_count": 40,
   "id": "4329f62f",
   "metadata": {},
   "outputs": [],
   "source": [
    "# model.summary()"
   ]
  },
  {
   "cell_type": "code",
   "execution_count": 37,
   "id": "80d4ec6e",
   "metadata": {},
   "outputs": [],
   "source": [
    "# keras.utils.plot_model(model,'toy_resnet.png',show_shapes=True)"
   ]
  },
  {
   "cell_type": "code",
   "execution_count": 39,
   "id": "fc062681",
   "metadata": {},
   "outputs": [],
   "source": [
    "y_train_2 = np.random.choice([0,1],len(y_train))\n",
    "y_test_2 = np.random.choice([0,1],len(y_test))"
   ]
  },
  {
   "cell_type": "code",
   "execution_count": 42,
   "id": "ea7dedbd",
   "metadata": {},
   "outputs": [
    {
     "name": "stdout",
     "output_type": "stream",
     "text": [
      "Epoch 1/12\n",
      "1500/1500 [==============================] - 10s 6ms/step - loss: 0.7453 - department_loss: 0.0470 - gender_loss: 0.6983 - department_accuracy: 0.9870 - gender_accuracy: 0.5014 - val_loss: 0.7347 - val_department_loss: 0.0384 - val_gender_loss: 0.6963 - val_department_accuracy: 0.9898 - val_gender_accuracy: 0.5000\n",
      "Epoch 2/12\n",
      "1500/1500 [==============================] - 9s 6ms/step - loss: 0.7350 - department_loss: 0.0377 - gender_loss: 0.6974 - department_accuracy: 0.9895 - gender_accuracy: 0.4981 - val_loss: 0.7329 - val_department_loss: 0.0383 - val_gender_loss: 0.6946 - val_department_accuracy: 0.9897 - val_gender_accuracy: 0.5031\n",
      "Epoch 3/12\n",
      "1500/1500 [==============================] - 9s 6ms/step - loss: 0.7297 - department_loss: 0.0327 - gender_loss: 0.6970 - department_accuracy: 0.9914 - gender_accuracy: 0.4972 - val_loss: 0.7351 - val_department_loss: 0.0411 - val_gender_loss: 0.6940 - val_department_accuracy: 0.9892 - val_gender_accuracy: 0.4968\n",
      "Epoch 4/12\n",
      "1500/1500 [==============================] - 9s 6ms/step - loss: 0.7251 - department_loss: 0.0287 - gender_loss: 0.6964 - department_accuracy: 0.9923 - gender_accuracy: 0.4992 - val_loss: 0.7424 - val_department_loss: 0.0467 - val_gender_loss: 0.6957 - val_department_accuracy: 0.9889 - val_gender_accuracy: 0.4974\n",
      "Epoch 5/12\n",
      "1500/1500 [==============================] - 9s 6ms/step - loss: 0.7215 - department_loss: 0.0251 - gender_loss: 0.6964 - department_accuracy: 0.9930 - gender_accuracy: 0.4990 - val_loss: 0.7298 - val_department_loss: 0.0360 - val_gender_loss: 0.6938 - val_department_accuracy: 0.9928 - val_gender_accuracy: 0.5002\n",
      "Epoch 6/12\n",
      "1500/1500 [==============================] - 10s 6ms/step - loss: 0.7203 - department_loss: 0.0245 - gender_loss: 0.6958 - department_accuracy: 0.9936 - gender_accuracy: 0.5001 - val_loss: 0.7614 - val_department_loss: 0.0659 - val_gender_loss: 0.6955 - val_department_accuracy: 0.9876 - val_gender_accuracy: 0.4981\n",
      "Epoch 7/12\n",
      "1500/1500 [==============================] - 10s 6ms/step - loss: 0.7166 - department_loss: 0.0207 - gender_loss: 0.6959 - department_accuracy: 0.9947 - gender_accuracy: 0.5002 - val_loss: 0.7395 - val_department_loss: 0.0452 - val_gender_loss: 0.6944 - val_department_accuracy: 0.9914 - val_gender_accuracy: 0.5035\n",
      "Epoch 8/12\n",
      "1500/1500 [==============================] - 10s 7ms/step - loss: 0.7162 - department_loss: 0.0210 - gender_loss: 0.6952 - department_accuracy: 0.9945 - gender_accuracy: 0.5019 - val_loss: 0.7488 - val_department_loss: 0.0528 - val_gender_loss: 0.6960 - val_department_accuracy: 0.9883 - val_gender_accuracy: 0.4987\n",
      "Epoch 9/12\n",
      "1500/1500 [==============================] - 10s 6ms/step - loss: 0.7142 - department_loss: 0.0188 - gender_loss: 0.6954 - department_accuracy: 0.9952 - gender_accuracy: 0.5012 - val_loss: 0.7442 - val_department_loss: 0.0503 - val_gender_loss: 0.6939 - val_department_accuracy: 0.9908 - val_gender_accuracy: 0.4934\n",
      "Epoch 10/12\n",
      "1500/1500 [==============================] - 9s 6ms/step - loss: 0.7143 - department_loss: 0.0193 - gender_loss: 0.6951 - department_accuracy: 0.9955 - gender_accuracy: 0.5051 - val_loss: 0.7378 - val_department_loss: 0.0438 - val_gender_loss: 0.6940 - val_department_accuracy: 0.9909 - val_gender_accuracy: 0.5025\n",
      "Epoch 11/12\n",
      "1500/1500 [==============================] - 9s 6ms/step - loss: 0.7123 - department_loss: 0.0172 - gender_loss: 0.6952 - department_accuracy: 0.9955 - gender_accuracy: 0.5044 - val_loss: 0.7388 - val_department_loss: 0.0449 - val_gender_loss: 0.6939 - val_department_accuracy: 0.9907 - val_gender_accuracy: 0.5036\n",
      "Epoch 12/12\n",
      "1500/1500 [==============================] - 9s 6ms/step - loss: 0.7114 - department_loss: 0.0165 - gender_loss: 0.6949 - department_accuracy: 0.9958 - gender_accuracy: 0.5031 - val_loss: 0.7672 - val_department_loss: 0.0731 - val_gender_loss: 0.6941 - val_department_accuracy: 0.9868 - val_gender_accuracy: 0.5022\n"
     ]
    }
   ],
   "source": [
    "history = model.fit(x = x_train,y= {\"department\": y_train,\"gender\": y_train_2},epochs=12,batch_size=32,validation_split=0.2)"
   ]
  },
  {
   "cell_type": "code",
   "execution_count": 43,
   "id": "0ec6f115",
   "metadata": {},
   "outputs": [
    {
     "data": {
      "text/plain": [
       "[<matplotlib.lines.Line2D at 0x7ff9c006e550>]"
      ]
     },
     "execution_count": 43,
     "metadata": {},
     "output_type": "execute_result"
    },
    {
     "data": {
      "image/png": "[encoded data removed]",
      "text/plain": [
       "<Figure size 432x288 with 1 Axes>"
      ]
     },
     "metadata": {
      "needs_background": "light"
     },
     "output_type": "display_data"
    }
   ],
   "source": [
    "plt.plot(history.history['department_loss'])\n",
    "plt.plot(history.history['gender_loss'])"
   ]
  },
  {
   "cell_type": "code",
   "execution_count": 45,
   "id": "d2b1bdaa",
   "metadata": {},
   "outputs": [
    {
     "data": {
      "text/plain": [
       "[<matplotlib.lines.Line2D at 0x7ff9c01f7190>]"
      ]
     },
     "execution_count": 45,
     "metadata": {},
     "output_type": "execute_result"
    },
    {
     "data": {
      "image/png": "[encoded data removed]",
      "text/plain": [
       "<Figure size 432x288 with 1 Axes>"
      ]
     },
     "metadata": {
      "needs_background": "light"
     },
     "output_type": "display_data"
    }
   ],
   "source": [
    "plt.plot(history.history['department_accuracy'])\n",
    "plt.plot(history.history['gender_accuracy'])"
   ]
  },
  {
   "cell_type": "code",
   "execution_count": 60,
   "id": "a3654ae7",
   "metadata": {},
   "outputs": [],
   "source": [
    "y= np.random.choice([0,1],4)"
   ]
  },
  {
   "cell_type": "code",
   "execution_count": 61,
   "id": "ec230377",
   "metadata": {},
   "outputs": [],
   "source": [
    "y_hat = np.random.choice([0,1],4)"
   ]
  },
  {
   "cell_type": "code",
   "execution_count": 62,
   "id": "be9b656e",
   "metadata": {},
   "outputs": [
    {
     "name": "stderr",
     "output_type": "stream",
     "text": [
      "<ipython-input-62-d0070684806c>:1: RuntimeWarning: divide by zero encountered in log\n",
      "  np.log(y)\n"
     ]
    },
    {
     "data": {
      "text/plain": [
       "array([  0., -inf,   0.,   0.])"
      ]
     },
     "execution_count": 62,
     "metadata": {},
     "output_type": "execute_result"
    }
   ],
   "source": [
    "np.log(y)"
   ]
  },
  {
   "cell_type": "code",
   "execution_count": 63,
   "id": "1777197b",
   "metadata": {},
   "outputs": [
    {
     "data": {
      "text/plain": [
       "array([1, 0, 1, 1])"
      ]
     },
     "execution_count": 63,
     "metadata": {},
     "output_type": "execute_result"
    }
   ],
   "source": [
    "y"
   ]
  },
  {
   "cell_type": "code",
   "execution_count": 67,
   "id": "00a667fc",
   "metadata": {},
   "outputs": [
    {
     "data": {
      "text/plain": [
       "-0.6931471805599453"
      ]
     },
     "execution_count": 67,
     "metadata": {},
     "output_type": "execute_result"
    }
   ],
   "source": [
    "-np.log(np.dot(y,y_hat))"
   ]
  },
  {
   "cell_type": "code",
   "execution_count": 64,
   "id": "79b776f8",
   "metadata": {},
   "outputs": [
    {
     "data": {
      "text/plain": [
       "array([1, 0, 0, 1])"
      ]
     },
     "execution_count": 64,
     "metadata": {},
     "output_type": "execute_result"
    }
   ],
   "source": [
    "y_hat"
   ]
  },
  {
   "cell_type": "code",
   "execution_count": 81,
   "id": "b37b2831",
   "metadata": {},
   "outputs": [
    {
     "data": {
      "text/plain": [
       "[<matplotlib.lines.Line2D at 0x7ffa26e72fa0>]"
      ]
     },
     "execution_count": 81,
     "metadata": {},
     "output_type": "execute_result"
    },
    {
     "data": {
      "image/png": "[encoded data removed]",
      "text/plain": [
       "<Figure size 576x432 with 1 Axes>"
      ]
     },
     "metadata": {
      "needs_background": "light"
     },
     "output_type": "display_data"
    }
   ],
   "source": [
    "x =  np.random.normal(0.56,1.75,50)\n",
    "y = np.where(x >= 0,1,0)\n",
    "plt.figure(figsize=(8,6))\n",
    "plt.plot(x,y,'bo')"
   ]
  },
  {
   "cell_type": "code",
   "execution_count": 83,
   "id": "c68a869c",
   "metadata": {},
   "outputs": [],
   "source": [
    "X,y = make_regression(n_samples=500,n_features=30,n_targets=1)"
   ]
  },
  {
   "cell_type": "code",
   "execution_count": 84,
   "id": "2d13a82b",
   "metadata": {},
   "outputs": [
    {
     "data": {
      "text/plain": [
       "(500, 30)"
      ]
     },
     "execution_count": 84,
     "metadata": {},
     "output_type": "execute_result"
    }
   ],
   "source": [
    "X.shape"
   ]
  },
  {
   "cell_type": "code",
   "execution_count": 85,
   "id": "dd3d1621",
   "metadata": {},
   "outputs": [
    {
     "data": {
      "text/plain": [
       "(500,)"
      ]
     },
     "execution_count": 85,
     "metadata": {},
     "output_type": "execute_result"
    }
   ],
   "source": [
    "y.shape"
   ]
  },
  {
   "cell_type": "code",
   "execution_count": 87,
   "id": "1fdf37cf",
   "metadata": {},
   "outputs": [
    {
     "data": {
      "text/plain": [
       "<matplotlib.collections.PathCollection at 0x7ff9901d6d00>"
      ]
     },
     "execution_count": 87,
     "metadata": {},
     "output_type": "execute_result"
    },
    {
     "data": {
      "image/png": "[encoded data removed]",
      "text/plain": [
       "<Figure size 576x432 with 1 Axes>"
      ]
     },
     "metadata": {
      "needs_background": "light"
     },
     "output_type": "display_data"
    }
   ],
   "source": [
    "plt.figure(figsize=(8,6))\n",
    "plt.scatter(X[:,0],y)"
   ]
  },
  {
   "cell_type": "code",
   "execution_count": 93,
   "id": "bb7b11c0",
   "metadata": {},
   "outputs": [],
   "source": [
    "theta = np.linalg.inv(np.dot(X.T,X))@X.T@y"
   ]
  },
  {
   "cell_type": "code",
   "execution_count": 101,
   "id": "9dcb3e95",
   "metadata": {},
   "outputs": [],
   "source": [
    "y_hat = X@theta\n",
    "x =  np.arange(0,500)"
   ]
  },
  {
   "cell_type": "code",
   "execution_count": 104,
   "id": "504e090a",
   "metadata": {},
   "outputs": [
    {
     "data": {
      "text/plain": [
       "<matplotlib.legend.Legend at 0x7ff9946f93a0>"
      ]
     },
     "execution_count": 104,
     "metadata": {},
     "output_type": "execute_result"
    },
    {
     "data": {
      "image/png": "[encoded data removed]",
      "text/plain": [
       "<Figure size 576x432 with 1 Axes>"
      ]
     },
     "metadata": {
      "needs_background": "light"
     },
     "output_type": "display_data"
    }
   ],
   "source": [
    "plt.figure(figsize=(8,6))\n",
    "plt.plot(x,y)\n",
    "plt.plot(x[::10],y_hat[::10],'ro')\n",
    "\n",
    "plt.legend([r\"$y$\",r\"$\\hat{y}$\"])"
   ]
  },
  {
   "cell_type": "code",
   "execution_count": 106,
   "id": "41ed0647",
   "metadata": {},
   "outputs": [],
   "source": [
    "err = np.sum((y - y_hat)**2)"
   ]
  },
  {
   "cell_type": "code",
   "execution_count": null,
   "id": "6c7b2c0f",
   "metadata": {},
   "outputs": [],
   "source": []
  }
 ],
 "metadata": {
  "kernelspec": {
   "display_name": "Python 3",
   "language": "python",
   "name": "python3"
  },
  "language_info": {
   "codemirror_mode": {
    "name": "ipython",
    "version": 3
   },
   "file_extension": ".py",
   "mimetype": "text/x-python",
   "name": "python",
   "nbconvert_exporter": "python",
   "pygments_lexer": "ipython3",
   "version": "3.9.7"
  }
 },
 "nbformat": 4,
 "nbformat_minor": 5
}
