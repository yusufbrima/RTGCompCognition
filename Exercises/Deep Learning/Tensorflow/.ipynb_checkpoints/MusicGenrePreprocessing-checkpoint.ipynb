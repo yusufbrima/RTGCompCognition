{
 "cells": [
  {
   "cell_type": "code",
   "execution_count": 1,
   "id": "26db1ec4-b266-403e-a32f-5fb87f09e036",
   "metadata": {},
   "outputs": [],
   "source": [
    "import librosa\n",
    "import librosa.display\n",
    "import IPython.display as ipd\n",
    "import matplotlib.pyplot as plt\n",
    "import numpy as np\n",
    "import scipy as sp\n",
    "import pandas as pd\n",
    "import random\n",
    "import json\n",
    "import os\n",
    "import math"
   ]
  },
  {
   "cell_type": "code",
   "execution_count": 2,
   "id": "d7dc9d70-40a6-4faf-b902-44b9527a69b7",
   "metadata": {},
   "outputs": [],
   "source": [
    "BASE_DIR = f\"/net/projects/scratch/winter/valid_until_31_July_2022/ybrima/data/genres/\""
   ]
  },
  {
   "cell_type": "code",
   "execution_count": 3,
   "id": "e472d118-6e77-4545-93ad-546daa97de3c",
   "metadata": {},
   "outputs": [],
   "source": [
    "def get_files(BASE_DIR):\n",
    "    CLASSES = os.listdir(BASE_DIR)\n",
    "    ds =  {'file':[], \"class\":[]}\n",
    "    for c in CLASSES:\n",
    "        if(os.path.isdir(os.path.join(BASE_DIR,c))):\n",
    "            files =  os.listdir(os.path.join(BASE_DIR,c))\n",
    "            cur_dir = os.path.join(BASE_DIR,c)\n",
    "            for f in files:\n",
    "                file =  os.path.join(cur_dir,f)\n",
    "                ds['file'].append(file)\n",
    "                ds['class'].append(c)\n",
    "    data = pd.DataFrame(ds)\n",
    "    return data,CLASSES"
   ]
  },
  {
   "cell_type": "code",
   "execution_count": 4,
   "id": "a3ce8ea5-6b0f-4fb4-9cc2-90455790a557",
   "metadata": {},
   "outputs": [],
   "source": [
    "df,classes = get_files(BASE_DIR)"
   ]
  },
  {
   "cell_type": "code",
   "execution_count": 5,
   "id": "5ffc69f4-5a9b-4e0f-abef-16740e30567f",
   "metadata": {},
   "outputs": [
    {
     "data": {
      "text/plain": [
       "blues        100\n",
       "jazz         100\n",
       "reggae       100\n",
       "hiphop       100\n",
       "metal        100\n",
       "classical    100\n",
       "rock         100\n",
       "pop          100\n",
       "disco        100\n",
       "country      100\n",
       "Name: class, dtype: int64"
      ]
     },
     "execution_count": 5,
     "metadata": {},
     "output_type": "execute_result"
    }
   ],
   "source": [
    "df['class'].value_counts()"
   ]
  },
  {
   "cell_type": "code",
   "execution_count": 7,
   "id": "3e8f6863-7667-4628-89d3-dabcbb3faf6d",
   "metadata": {},
   "outputs": [],
   "source": [
    "file_path = \"/net/projects/scratch/winter/valid_until_31_July_2022/ybrima/data/data_genre.npz\"\n",
    "SAMPLE_RATE = 44100\n",
    "n_fft = 2048\n",
    "hop_length =  512\n",
    "num_mfcc=128"
   ]
  },
  {
   "cell_type": "code",
   "execution_count": 32,
   "id": "becead4f-9254-4ffb-a499-774bd478522a",
   "metadata": {},
   "outputs": [],
   "source": [
    "def save_array(df,file_path):\n",
    "    X  = []\n",
    "    W = []\n",
    "    y =  []\n",
    "    for k in range(df.shape[0]):\n",
    "        r =  df.iloc[k]\n",
    "\n",
    "        #   Loading the audio file \n",
    "        signal,_ = librosa.load(r['file'], sr=SAMPLE_RATE)\n",
    "        # extract mfcc\n",
    "        mfcc = librosa.feature.mfcc(signal, SAMPLE_RATE, n_mfcc=num_mfcc, n_fft=n_fft, hop_length=hop_length)\n",
    "        spec = librosa.amplitude_to_db(np.abs(librosa.stft(signal,n_fft=n_fft,hop_length=hop_length)), ref=np.max)\n",
    "        w,h = 2586, 128\n",
    "        mfcc = mfcc.T\n",
    "        if(mfcc.shape[0] == w and mfcc.shape[1] == h):\n",
    "            X.append(mfcc)\n",
    "            W.append(spec)\n",
    "            y.append(classes.index(r['class']))\n",
    "    X =  np.array(X)\n",
    "    W =  np.array(W)\n",
    "    y =  np.array(y)\n",
    "    data =  np.savez(file_path,w=W,x=X,y=y)\n",
    "    print(f\"Data written to storage successfully, path = {file_path}\")\n",
    "\n",
    "def plot_history(history):\n",
    "    \"\"\"Plots accuracy/loss for training/validation set as a function of the epochs\n",
    "        :param history: Training history of model\n",
    "        :return:\n",
    "    \"\"\"\n",
    "\n",
    "    fig, axs = plt.subplots(2)\n",
    "\n",
    "    # create accuracy sublpot\n",
    "    axs[0].plot(history.history[\"accuracy\"], label=\"train accuracy\")\n",
    "    axs[0].plot(history.history[\"val_accuracy\"], label=\"test accuracy\")\n",
    "    axs[0].set_ylabel(\"Accuracy\")\n",
    "    axs[0].legend(loc=\"lower right\")\n",
    "    axs[0].set_title(\"Accuracy eval\")\n",
    "\n",
    "    # create error sublpot\n",
    "    axs[1].plot(history.history[\"loss\"], label=\"train error\")\n",
    "    axs[1].plot(history.history[\"val_loss\"], label=\"test error\")\n",
    "    axs[1].set_ylabel(\"Error\")\n",
    "    axs[1].set_xlabel(\"Epoch\")\n",
    "    axs[1].legend(loc=\"upper right\")\n",
    "    axs[1].set_title(\"Error eval\")\n",
    "\n",
    "    plt.show()\n",
    "\n",
    "def plot_sample(x,sr):\n",
    "    \n",
    "    if(x.shape[0] > x.shape[1]):\n",
    "        x =  x.T\n",
    "    librosa.display.specshow(x, sr=sr, x_axis='time',y_axis=\"log\",hop_length=hop_length)\n",
    "    plt.colorbar(format='%+2.f') "
   ]
  },
  {
   "cell_type": "code",
   "execution_count": 8,
   "id": "2d06e21e-3d91-4728-903f-318f6500175a",
   "metadata": {},
   "outputs": [],
   "source": [
    "df.to_csv('sanitized_music_genre', encoding='utf-8', index=False)"
   ]
  },
  {
   "cell_type": "code",
   "execution_count": null,
   "id": "f1adc118-c84b-4f62-8906-e2b53619ec90",
   "metadata": {},
   "outputs": [],
   "source": [
    "save_array(df,file_path)"
   ]
  },
  {
   "cell_type": "code",
   "execution_count": null,
   "id": "cc1516b4-f811-4953-916a-d5a0bef31b4b",
   "metadata": {},
   "outputs": [],
   "source": [
    "plot_sample(X[random.randint(0,len(X))],SAMPLE_RATE)"
   ]
  },
  {
   "cell_type": "code",
   "execution_count": null,
   "id": "94ec7bc6-d9be-4d6d-8633-09c3414ed59b",
   "metadata": {},
   "outputs": [],
   "source": [
    "# plot accuracy and error as a function of the epochs\n",
    "plot_history(history)"
   ]
  }
 ],
 "metadata": {
  "kernelspec": {
   "display_name": "Python 3",
   "language": "python",
   "name": "python3"
  },
  "language_info": {
   "codemirror_mode": {
    "name": "ipython",
    "version": 3
   },
   "file_extension": ".py",
   "mimetype": "text/x-python",
   "name": "python",
   "nbconvert_exporter": "python",
   "pygments_lexer": "ipython3",
   "version": "3.9.7"
  }
 },
 "nbformat": 4,
 "nbformat_minor": 5
}
