{
 "cells": [
  {
   "cell_type": "code",
   "execution_count": 13,
   "id": "1b74c97a-a1c1-4cf4-8f2e-e3161af9b30c",
   "metadata": {},
   "outputs": [],
   "source": [
    "import librosa\n",
    "import librosa.display\n",
    "import IPython.display as ipd\n",
    "import matplotlib.pyplot as plt\n",
    "import json\n",
    "from sklearn.model_selection import train_test_split\n",
    "import tensorflow.keras as keras\n",
    "import numpy as np\n",
    "import scipy as sp\n",
    "import pandas as pd\n",
    "import random\n",
    "import json\n",
    "import os\n",
    "import math"
   ]
  },
  {
   "cell_type": "code",
   "execution_count": 33,
   "id": "bd0d57c8-f4dc-4427-9124-0dd45b85654a",
   "metadata": {},
   "outputs": [],
   "source": [
    "def load_data(data_path):\n",
    "    \"\"\"Loads training dataset from json file.\n",
    "        :param data_path (str): Path to json file containing data\n",
    "        :return X (ndarray): Inputs\n",
    "        :return y (ndarray): Targets\n",
    "    \"\"\"\n",
    "\n",
    "    with open(data_path, \"r\") as fp:\n",
    "        data = json.load(fp)\n",
    "\n",
    "    # convert lists to numpy arrays\n",
    "    X = np.array(data[\"mfcc\"],dtype=np.float64)\n",
    "    y = np.array(data[\"labels\"])\n",
    "    Z = np.array(data[\"melspec\"],dtype=np.float64)\n",
    "    mp = data['mapping']\n",
    "    print(\"Data succesfully loaded!\")\n",
    "\n",
    "    return  X, y,Z,mp\n",
    "\n",
    "\n",
    "def prepare_datasets(test_size, validation_size):\n",
    "    \"\"\"Loads data and splits it into train, validation and test sets.\n",
    "    :param test_size (float): Value in [0, 1] indicating percentage of data set to allocate to test split\n",
    "    :param validation_size (float): Value in [0, 1] indicating percentage of train set to allocate to validation split\n",
    "    :return X_train (ndarray): Input training set\n",
    "    :return X_validation (ndarray): Input validation set\n",
    "    :return X_test (ndarray): Input test set\n",
    "    :return y_train (ndarray): Target training set\n",
    "    :return y_validation (ndarray): Target validation set\n",
    "    :return y_test (ndarray): Target test set\n",
    "    \"\"\"\n",
    "\n",
    "    # load data\n",
    "    X, y,Z,_ = load_data(DATA_PATH)\n",
    "\n",
    "    # create train, validation and test split\n",
    "    X_train, X_test, y_train, y_test = train_test_split(Z, y, test_size=test_size)\n",
    "    X_train, X_validation, y_train, y_validation = train_test_split(X_train, y_train, test_size=validation_size)\n",
    "\n",
    "    return X_train, X_validation, X_test, y_train, y_validation, y_test\n",
    "\n",
    "def plot_history(history):\n",
    "    \"\"\"Plots accuracy/loss for training/validation set as a function of the epochs\n",
    "        :param history: Training history of model\n",
    "        :return:\n",
    "    \"\"\"\n",
    "\n",
    "    fig, axs = plt.subplots(2)\n",
    "\n",
    "    # create accuracy sublpot\n",
    "    axs[0].plot(history.history[\"accuracy\"], label=\"train accuracy\")\n",
    "    axs[0].plot(history.history[\"val_accuracy\"], label=\"test accuracy\")\n",
    "    axs[0].set_ylabel(\"Accuracy\")\n",
    "    axs[0].legend(loc=\"lower right\")\n",
    "    axs[0].set_title(\"Accuracy eval\")\n",
    "\n",
    "    # create error sublpot\n",
    "    axs[1].plot(history.history[\"loss\"], label=\"train error\")\n",
    "    axs[1].plot(history.history[\"val_loss\"], label=\"test error\")\n",
    "    axs[1].set_ylabel(\"Error\")\n",
    "    axs[1].set_xlabel(\"Epoch\")\n",
    "    axs[1].legend(loc=\"upper right\")\n",
    "    axs[1].set_title(\"Error eval\")\n",
    "\n",
    "    plt.show()\n",
    "\n",
    "def normalize(train, test): \n",
    "    mu, sigma = train.mean(),train.std()\n",
    "    train = (train - mu) / sigma \n",
    "    mu, sigma = test.mean(),test.std()\n",
    "    test = (test - mu) / sigma \n",
    "    return train, test "
   ]
  },
  {
   "cell_type": "code",
   "execution_count": 34,
   "id": "6f27f9a8-607d-4907-9240-4d3631bd4d8e",
   "metadata": {},
   "outputs": [],
   "source": [
    "def plot_sample(x,sr):\n",
    "    if(x.shape[0] > x.shape[1]):\n",
    "        x =  x.T\n",
    "    librosa.display.specshow(x, sr=sr, x_axis='time',y_axis=\"log\")\n",
    "    plt.colorbar(format='%+2.f') "
   ]
  },
  {
   "cell_type": "code",
   "execution_count": 35,
   "id": "1c67ed4b-140d-4860-ad02-7c66b7e40628",
   "metadata": {},
   "outputs": [],
   "source": [
    "# path to json file that stores MFCCs and genre labels for each processed segment\n",
    "paths = \"/net/projects/scratch/winter/valid_until_31_July_2022/ybrima/data\"\n",
    "\n",
    "JSON_PATH = f\"{paths}/data_13.json\"\n",
    "\n",
    "# Audio hyperparamters\n",
    "sr = 22050"
   ]
  },
  {
   "cell_type": "code",
   "execution_count": 36,
   "id": "99d9fc9d-bcb8-4e59-be6a-f8ad00e1e052",
   "metadata": {},
   "outputs": [
    {
     "name": "stdout",
     "output_type": "stream",
     "text": [
      "Data succesfully loaded!\n"
     ]
    }
   ],
   "source": [
    "\n",
    "# load data\n",
    "X, y,Z,mp = load_data(DATA_PATH)\n",
    "\n",
    "used = set()\n",
    "label = [x for x in mp if x not in used and (used.add(x) or True)]\n",
    "\n",
    "\n",
    "# create train/test split\n",
    "X_train, X_test, y_train, y_test = train_test_split(X, y, test_size=0.3,shuffle=True)\n"
   ]
  },
  {
   "cell_type": "code",
   "execution_count": 37,
   "id": "b5f1dd5e-6c86-4bf9-a553-489331d72023",
   "metadata": {},
   "outputs": [
    {
     "data": {
      "image/png": "[encoded data removed]",
      "text/plain": [
       "<Figure size 432x288 with 2 Axes>"
      ]
     },
     "metadata": {
      "needs_background": "light"
     },
     "output_type": "display_data"
    }
   ],
   "source": [
    "plot_sample(Z[random.randint(0,len(X))],sr)"
   ]
  },
  {
   "cell_type": "code",
   "execution_count": 38,
   "id": "80af8e6e-7887-402a-9d12-763efc3bf327",
   "metadata": {},
   "outputs": [
    {
     "name": "stdout",
     "output_type": "stream",
     "text": [
      "[name: \"/device:CPU:0\"\n",
      "device_type: \"CPU\"\n",
      "memory_limit: 268435456\n",
      "locality {\n",
      "}\n",
      "incarnation: 8275439175601138110\n",
      "]\n"
     ]
    }
   ],
   "source": [
    "from tensorflow.python.client import device_lib \n",
    "print(device_lib.list_local_devices())"
   ]
  },
  {
   "cell_type": "code",
   "execution_count": 39,
   "id": "8217b773-60ef-414a-bb10-7238db2d3724",
   "metadata": {},
   "outputs": [],
   "source": [
    "def build_model(input_shape):\n",
    "    \"\"\"Generates RNN-LSTM model\n",
    "    :param input_shape (tuple): Shape of input set\n",
    "    :return model: RNN-LSTM model\n",
    "    \"\"\"\n",
    "\n",
    "    # build network topology\n",
    "    model = keras.Sequential()\n",
    "\n",
    "    # 2 LSTM layers\n",
    "    model.add(keras.layers.LSTM(64, input_shape=input_shape, return_sequences=True))\n",
    "    model.add(keras.layers.LSTM(64))\n",
    "\n",
    "    # dense layer\n",
    "    model.add(keras.layers.Dense(64, activation='relu'))\n",
    "    model.add(keras.layers.Dropout(0.3))\n",
    "\n",
    "    # output layer\n",
    "    model.add(keras.layers.Dense(13, activation='softmax'))\n",
    "\n",
    "    return model\n"
   ]
  },
  {
   "cell_type": "code",
   "execution_count": 40,
   "id": "5e89ad0b-07cd-417a-b2d6-cb9ed852fb73",
   "metadata": {},
   "outputs": [
    {
     "name": "stdout",
     "output_type": "stream",
     "text": [
      "Data succesfully loaded!\n"
     ]
    }
   ],
   "source": [
    "# get train, validation, test splits\n",
    "X_train, X_validation, X_test, y_train, y_validation, y_test = prepare_datasets(0.25, 0.2)\n",
    "\n",
    "# create network\n",
    "input_shape = (X_train.shape[1], X_train.shape[2]) # 130, 13\n"
   ]
  },
  {
   "cell_type": "code",
   "execution_count": 41,
   "id": "aa6f2cbb-2045-4ddb-b191-49722311db45",
   "metadata": {},
   "outputs": [],
   "source": [
    "model = build_model(input_shape)"
   ]
  },
  {
   "cell_type": "code",
   "execution_count": 42,
   "id": "70dc81f9-af29-48bf-adce-cdd72d8abe88",
   "metadata": {},
   "outputs": [
    {
     "name": "stdout",
     "output_type": "stream",
     "text": [
      "Model: \"sequential_1\"\n",
      "_________________________________________________________________\n",
      "Layer (type)                 Output Shape              Param #   \n",
      "=================================================================\n",
      "lstm_2 (LSTM)                (None, 87, 64)            19968     \n",
      "_________________________________________________________________\n",
      "lstm_3 (LSTM)                (None, 64)                33024     \n",
      "_________________________________________________________________\n",
      "dense_2 (Dense)              (None, 64)                4160      \n",
      "_________________________________________________________________\n",
      "dropout_1 (Dropout)          (None, 64)                0         \n",
      "_________________________________________________________________\n",
      "dense_3 (Dense)              (None, 13)                845       \n",
      "=================================================================\n",
      "Total params: 57,997\n",
      "Trainable params: 57,997\n",
      "Non-trainable params: 0\n",
      "_________________________________________________________________\n",
      "Epoch 1/30\n",
      "56/56 [==============================] - 22s 346ms/step - loss: 2.4880 - accuracy: 0.1810 - val_loss: 2.3011 - val_accuracy: 0.3311\n",
      "Epoch 2/30\n",
      "56/56 [==============================] - 20s 358ms/step - loss: 2.3551 - accuracy: 0.2695 - val_loss: 2.1579 - val_accuracy: 0.3446\n",
      "Epoch 3/30\n",
      "56/56 [==============================] - 22s 397ms/step - loss: 2.2411 - accuracy: 0.2982 - val_loss: 2.0254 - val_accuracy: 0.3829\n",
      "Epoch 4/30\n",
      "56/56 [==============================] - 19s 346ms/step - loss: 2.1402 - accuracy: 0.2974 - val_loss: 1.9134 - val_accuracy: 0.4054\n",
      "Epoch 5/30\n",
      "56/56 [==============================] - 20s 364ms/step - loss: 2.0104 - accuracy: 0.3371 - val_loss: 1.8446 - val_accuracy: 0.4054\n",
      "Epoch 6/30\n",
      "56/56 [==============================] - 20s 349ms/step - loss: 1.9882 - accuracy: 0.3038 - val_loss: 1.7889 - val_accuracy: 0.4122\n",
      "Epoch 7/30\n",
      "56/56 [==============================] - 21s 381ms/step - loss: 1.9297 - accuracy: 0.2825 - val_loss: 1.7364 - val_accuracy: 0.4054\n",
      "Epoch 8/30\n",
      "56/56 [==============================] - 20s 364ms/step - loss: 1.8839 - accuracy: 0.3286 - val_loss: 1.7094 - val_accuracy: 0.4077\n",
      "Epoch 9/30\n",
      "56/56 [==============================] - 20s 349ms/step - loss: 1.8523 - accuracy: 0.3200 - val_loss: 1.6929 - val_accuracy: 0.4212\n",
      "Epoch 10/30\n",
      "56/56 [==============================] - 20s 366ms/step - loss: 1.8291 - accuracy: 0.3454 - val_loss: 1.6596 - val_accuracy: 0.4234\n",
      "Epoch 11/30\n",
      "56/56 [==============================] - 20s 353ms/step - loss: 1.8222 - accuracy: 0.3227 - val_loss: 1.6352 - val_accuracy: 0.4212\n",
      "Epoch 12/30\n",
      "56/56 [==============================] - 20s 363ms/step - loss: 1.7781 - accuracy: 0.3372 - val_loss: 1.6282 - val_accuracy: 0.4144\n",
      "Epoch 13/30\n",
      "56/56 [==============================] - 21s 373ms/step - loss: 1.7707 - accuracy: 0.3357 - val_loss: 1.6193 - val_accuracy: 0.4279\n",
      "Epoch 14/30\n",
      "56/56 [==============================] - 21s 371ms/step - loss: 1.7716 - accuracy: 0.3500 - val_loss: 1.5994 - val_accuracy: 0.4189\n",
      "Epoch 15/30\n",
      "56/56 [==============================] - 19s 346ms/step - loss: 1.7773 - accuracy: 0.3355 - val_loss: 1.5981 - val_accuracy: 0.4032\n",
      "Epoch 16/30\n",
      "56/56 [==============================] - 21s 372ms/step - loss: 1.7360 - accuracy: 0.3648 - val_loss: 1.5924 - val_accuracy: 0.4392\n",
      "Epoch 17/30\n",
      "56/56 [==============================] - 24s 434ms/step - loss: 1.7002 - accuracy: 0.3760 - val_loss: 1.5935 - val_accuracy: 0.4077\n",
      "Epoch 18/30\n",
      "56/56 [==============================] - 20s 360ms/step - loss: 1.7102 - accuracy: 0.3589 - val_loss: 1.5739 - val_accuracy: 0.4279\n",
      "Epoch 19/30\n",
      "56/56 [==============================] - 18s 315ms/step - loss: 1.6617 - accuracy: 0.3852 - val_loss: 1.6162 - val_accuracy: 0.4324\n",
      "Epoch 20/30\n",
      "56/56 [==============================] - 21s 376ms/step - loss: 1.6908 - accuracy: 0.3710 - val_loss: 1.5537 - val_accuracy: 0.4212\n",
      "Epoch 21/30\n",
      "56/56 [==============================] - 21s 374ms/step - loss: 1.6426 - accuracy: 0.3827 - val_loss: 1.5766 - val_accuracy: 0.4459\n",
      "Epoch 22/30\n",
      "56/56 [==============================] - 29s 523ms/step - loss: 1.7001 - accuracy: 0.3766 - val_loss: 1.5922 - val_accuracy: 0.4189\n",
      "Epoch 23/30\n",
      "56/56 [==============================] - 22s 392ms/step - loss: 1.6555 - accuracy: 0.3869 - val_loss: 1.5456 - val_accuracy: 0.4392\n",
      "Epoch 24/30\n",
      "56/56 [==============================] - 22s 396ms/step - loss: 1.6586 - accuracy: 0.3890 - val_loss: 1.5434 - val_accuracy: 0.4302\n",
      "Epoch 25/30\n",
      "56/56 [==============================] - 22s 389ms/step - loss: 1.6114 - accuracy: 0.3986 - val_loss: 1.5542 - val_accuracy: 0.4189\n",
      "Epoch 26/30\n",
      "56/56 [==============================] - 20s 351ms/step - loss: 1.5925 - accuracy: 0.4063 - val_loss: 1.5358 - val_accuracy: 0.4392\n",
      "Epoch 27/30\n",
      "56/56 [==============================] - 20s 353ms/step - loss: 1.6293 - accuracy: 0.4205 - val_loss: 1.5383 - val_accuracy: 0.4324\n",
      "Epoch 28/30\n",
      "56/56 [==============================] - 26s 467ms/step - loss: 1.5928 - accuracy: 0.4144 - val_loss: 1.5105 - val_accuracy: 0.4437\n",
      "Epoch 29/30\n",
      "56/56 [==============================] - 28s 506ms/step - loss: 1.5630 - accuracy: 0.4262 - val_loss: 1.5418 - val_accuracy: 0.4324\n",
      "Epoch 30/30\n",
      "56/56 [==============================] - 25s 451ms/step - loss: 1.5867 - accuracy: 0.4224 - val_loss: 1.5263 - val_accuracy: 0.4437\n"
     ]
    },
    {
     "data": {
      "image/png": "[encoded data removed]",
      "text/plain": [
       "<Figure size 432x288 with 2 Axes>"
      ]
     },
     "metadata": {
      "needs_background": "light"
     },
     "output_type": "display_data"
    },
    {
     "name": "stdout",
     "output_type": "stream",
     "text": [
      "24/24 - 3s - loss: 1.6264 - accuracy: 0.3802\n",
      "\n",
      "Test accuracy: 0.38024356961250305\n"
     ]
    }
   ],
   "source": [
    "# compile model\n",
    "optimiser = keras.optimizers.Adam(learning_rate=0.0001)\n",
    "model.compile(optimizer=optimiser,\n",
    "              loss='sparse_categorical_crossentropy',\n",
    "              metrics=['accuracy'])\n",
    "\n",
    "model.summary()\n",
    "\n",
    "# train model\n",
    "history = model.fit(X_train, y_train, validation_data=(X_validation, y_validation), batch_size=32, epochs=30)\n",
    "\n",
    "# plot accuracy/error for training and validation\n",
    "plot_history(history)\n",
    "\n",
    "# evaluate model on test set\n",
    "test_loss, test_acc = model.evaluate(X_test, y_test, verbose=2)\n",
    "print('\\nTest accuracy:', test_acc)"
   ]
  },
  {
   "cell_type": "code",
   "execution_count": 43,
   "id": "ee6ead64-2f4b-4136-af75-07bd2005389a",
   "metadata": {},
   "outputs": [
    {
     "name": "stdout",
     "output_type": "stream",
     "text": [
      "Epoch 1/30\n",
      "56/56 [==============================] - 27s 473ms/step - loss: 2.1078 - accuracy: 0.2483 - val_loss: 1.7796 - val_accuracy: 0.3761\n",
      "Epoch 2/30\n",
      "56/56 [==============================] - 18s 321ms/step - loss: 1.8424 - accuracy: 0.2997 - val_loss: 1.6854 - val_accuracy: 0.3806\n",
      "Epoch 3/30\n",
      "56/56 [==============================] - 18s 314ms/step - loss: 1.7907 - accuracy: 0.3155 - val_loss: 1.6575 - val_accuracy: 0.3874\n",
      "Epoch 4/30\n",
      "56/56 [==============================] - 24s 432ms/step - loss: 1.7826 - accuracy: 0.3126 - val_loss: 1.6406 - val_accuracy: 0.3919\n",
      "Epoch 5/30\n",
      "56/56 [==============================] - 20s 358ms/step - loss: 1.7742 - accuracy: 0.3070 - val_loss: 1.6285 - val_accuracy: 0.4099\n",
      "Epoch 6/30\n",
      "56/56 [==============================] - 21s 383ms/step - loss: 1.7511 - accuracy: 0.3222 - val_loss: 1.6363 - val_accuracy: 0.4144\n",
      "Epoch 7/30\n",
      "56/56 [==============================] - 21s 382ms/step - loss: 1.7470 - accuracy: 0.3318 - val_loss: 1.6293 - val_accuracy: 0.3874\n",
      "Epoch 8/30\n",
      "56/56 [==============================] - 23s 418ms/step - loss: 1.7477 - accuracy: 0.3330 - val_loss: 1.6285 - val_accuracy: 0.3919\n",
      "Epoch 9/30\n",
      "56/56 [==============================] - 22s 387ms/step - loss: 1.7314 - accuracy: 0.3313 - val_loss: 1.6142 - val_accuracy: 0.3964\n",
      "Epoch 10/30\n",
      "56/56 [==============================] - 20s 352ms/step - loss: 1.7307 - accuracy: 0.3324 - val_loss: 1.6193 - val_accuracy: 0.4122\n",
      "Epoch 11/30\n",
      "56/56 [==============================] - 23s 405ms/step - loss: 1.7220 - accuracy: 0.3403 - val_loss: 1.6065 - val_accuracy: 0.4189\n",
      "Epoch 12/30\n",
      "56/56 [==============================] - 21s 376ms/step - loss: 1.7234 - accuracy: 0.3341 - val_loss: 1.6098 - val_accuracy: 0.4167\n",
      "Epoch 13/30\n",
      "56/56 [==============================] - 21s 368ms/step - loss: 1.7095 - accuracy: 0.3313 - val_loss: 1.5992 - val_accuracy: 0.4032\n",
      "Epoch 14/30\n",
      "56/56 [==============================] - 23s 408ms/step - loss: 1.6891 - accuracy: 0.3510 - val_loss: 1.5960 - val_accuracy: 0.3986\n",
      "Epoch 15/30\n",
      "56/56 [==============================] - 21s 381ms/step - loss: 1.6932 - accuracy: 0.3420 - val_loss: 1.5939 - val_accuracy: 0.4054\n",
      "Epoch 16/30\n",
      "56/56 [==============================] - 20s 346ms/step - loss: 1.7128 - accuracy: 0.3505 - val_loss: 1.5892 - val_accuracy: 0.4122\n",
      "Epoch 17/30\n",
      "56/56 [==============================] - 21s 371ms/step - loss: 1.6655 - accuracy: 0.3606 - val_loss: 1.5783 - val_accuracy: 0.3986\n",
      "Epoch 18/30\n",
      "56/56 [==============================] - 19s 338ms/step - loss: 1.6655 - accuracy: 0.3674 - val_loss: 1.5764 - val_accuracy: 0.4167\n",
      "Epoch 19/30\n",
      "56/56 [==============================] - 21s 380ms/step - loss: 1.6668 - accuracy: 0.3764 - val_loss: 1.5772 - val_accuracy: 0.3964\n",
      "Epoch 20/30\n",
      "56/56 [==============================] - 20s 351ms/step - loss: 1.6472 - accuracy: 0.3758 - val_loss: 1.5636 - val_accuracy: 0.4167\n",
      "Epoch 21/30\n",
      "56/56 [==============================] - 21s 377ms/step - loss: 1.6491 - accuracy: 0.3725 - val_loss: 1.5702 - val_accuracy: 0.4167\n",
      "Epoch 22/30\n",
      "56/56 [==============================] - 20s 353ms/step - loss: 1.6509 - accuracy: 0.3606 - val_loss: 1.5725 - val_accuracy: 0.3919\n",
      "Epoch 23/30\n",
      "56/56 [==============================] - 23s 417ms/step - loss: 1.6408 - accuracy: 0.3708 - val_loss: 1.5595 - val_accuracy: 0.4099\n",
      "Epoch 24/30\n",
      "56/56 [==============================] - 21s 377ms/step - loss: 1.6422 - accuracy: 0.3798 - val_loss: 1.5452 - val_accuracy: 0.4167\n",
      "Epoch 25/30\n",
      "56/56 [==============================] - 21s 370ms/step - loss: 1.6110 - accuracy: 0.3900 - val_loss: 1.5421 - val_accuracy: 0.4167\n",
      "Epoch 26/30\n",
      "56/56 [==============================] - 22s 397ms/step - loss: 1.6145 - accuracy: 0.3787 - val_loss: 1.5543 - val_accuracy: 0.4122\n",
      "Epoch 27/30\n",
      "56/56 [==============================] - 21s 380ms/step - loss: 1.6055 - accuracy: 0.3956 - val_loss: 1.5854 - val_accuracy: 0.3964\n",
      "Epoch 28/30\n",
      "56/56 [==============================] - 20s 349ms/step - loss: 1.6194 - accuracy: 0.3900 - val_loss: 1.5669 - val_accuracy: 0.3941\n",
      "Epoch 29/30\n",
      "56/56 [==============================] - 21s 369ms/step - loss: 1.6050 - accuracy: 0.3922 - val_loss: 1.5511 - val_accuracy: 0.4009\n",
      "Epoch 30/30\n",
      "56/56 [==============================] - 21s 373ms/step - loss: 1.5866 - accuracy: 0.4131 - val_loss: 1.5306 - val_accuracy: 0.4257\n"
     ]
    },
    {
     "data": {
      "image/png": "[encoded data removed]",
      "text/plain": [
       "<Figure size 432x288 with 2 Axes>"
      ]
     },
     "metadata": {
      "needs_background": "light"
     },
     "output_type": "display_data"
    }
   ],
   "source": [
    "train,validation = normalize(X_train, X_validation)\n",
    "# train model\n",
    "history = model.fit(train, y_train, validation_data=(validation, y_validation), batch_size=32, epochs=30)\n",
    "\n",
    "# plot accuracy/error for training and validation\n",
    "plot_history(history)\n",
    "\n",
    "# # evaluate model on test set\n",
    "# test_loss, test_acc = model.evaluate(X_test, y_test, verbose=2)\n",
    "# print('\\nTest accuracy:', test_acc)"
   ]
  },
  {
   "cell_type": "code",
   "execution_count": null,
   "id": "dd5326b8-b4dd-4a7e-b85d-4dd31f5eac4b",
   "metadata": {},
   "outputs": [],
   "source": []
  }
 ],
 "metadata": {
  "kernelspec": {
   "display_name": "Python 3",
   "language": "python",
   "name": "python3"
  },
  "language_info": {
   "codemirror_mode": {
    "name": "ipython",
    "version": 3
   },
   "file_extension": ".py",
   "mimetype": "text/x-python",
   "name": "python",
   "nbconvert_exporter": "python",
   "pygments_lexer": "ipython3",
   "version": "3.9.7"
  }
 },
 "nbformat": 4,
 "nbformat_minor": 5
}
