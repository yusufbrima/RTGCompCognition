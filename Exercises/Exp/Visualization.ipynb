{
 "cells": [
  {
   "cell_type": "code",
   "execution_count": 1,
   "id": "f3498824-579a-4cae-af06-b4aab02be82c",
   "metadata": {},
   "outputs": [],
   "source": [
    "import numpy as np\n",
    "import librosa\n",
    "import matplotlib.pyplot as plt"
   ]
  },
  {
   "cell_type": "code",
   "execution_count": 2,
   "id": "3ebfdfd5-e9ae-4c14-98f6-5d0fbb8c4c63",
   "metadata": {},
   "outputs": [],
   "source": [
    "F = lambda p: pow(2,(p-69)/12) * 440"
   ]
  },
  {
   "cell_type": "code",
   "execution_count": 5,
   "id": "266ca2e7-2878-47f0-921d-bd04d31be021",
   "metadata": {},
   "outputs": [],
   "source": [
    "p = np.arange(60,121,1)"
   ]
  },
  {
   "cell_type": "code",
   "execution_count": 15,
   "id": "01711f20-2078-4eb4-ad6f-b7f39a8b5e21",
   "metadata": {},
   "outputs": [
    {
     "data": {
      "text/plain": [
       "Text(0, 0.5, '$p$')"
      ]
     },
     "execution_count": 15,
     "metadata": {},
     "output_type": "execute_result"
    },
    {
     "data": {
      "image/png": "[encoded data removed]",
      "text/plain": [
       "<Figure size 576x432 with 1 Axes>"
      ]
     },
     "metadata": {
      "needs_background": "light"
     },
     "output_type": "display_data"
    }
   ],
   "source": [
    "plt.figure(figsize=(8,6))\n",
    "plt.plot(F(p),p,'g>')\n",
    "plt.xlabel(r\"$Hz$\")\n",
    "plt.ylabel(r\"$p$\")"
   ]
  },
  {
   "cell_type": "code",
   "execution_count": null,
   "id": "4edc36a4-d601-420e-b573-209fa295d16d",
   "metadata": {},
   "outputs": [],
   "source": []
  }
 ],
 "metadata": {
  "kernelspec": {
   "display_name": "Python 3",
   "language": "python",
   "name": "python3"
  },
  "language_info": {
   "codemirror_mode": {
    "name": "ipython",
    "version": 3
   },
   "file_extension": ".py",
   "mimetype": "text/x-python",
   "name": "python",
   "nbconvert_exporter": "python",
   "pygments_lexer": "ipython3",
   "version": "3.9.7"
  }
 },
 "nbformat": 4,
 "nbformat_minor": 5
}
