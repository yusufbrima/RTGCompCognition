{
 "cells": [
  {
   "cell_type": "code",
   "execution_count": 1,
   "id": "465e0430",
   "metadata": {},
   "outputs": [],
   "source": [
    "import librosa\n",
    "import librosa.display\n",
    "import IPython.display as ipd\n",
    "import matplotlib.pyplot as plt\n",
    "from pathlib import *\n",
    "import numpy as np\n",
    "import scipy as sp\n",
    "import pandas as pd\n",
    "import random\n",
    "import json\n",
    "import os\n",
    "import math"
   ]
  },
  {
   "cell_type": "code",
   "execution_count": 273,
   "id": "0e3ba9ab",
   "metadata": {},
   "outputs": [],
   "source": [
    "\n",
    "BASE_DIR = \"/net/projects/scratch/winter/valid_until_31_July_2022/krumnack/animal-communication-data/Chimp_IvoryCoast/manually_verified_2s/chimp_only_23112020_with_ids\"\n",
    "file_path = \"/net/projects/scratch/winter/valid_until_31_July_2022/ybrima/data/data_chimp_preprocessed.npz\"\n",
    "selected_path = \"/net/projects/scratch/winter/valid_until_31_July_2022/ybrima/data/data_chimp.csv\"\n",
    "SAMPLE_RATE = 44100\n",
    "n_fft = 2048\n",
    "hop_length =  512\n",
    "num_mfcc=32\n",
    "def get_files(path):\n",
    "    files = [os.path.join(path,f) for f in os.listdir(path) if os.path.isfile(os.path.join(path,f)) and f.endswith('.wav')]\n",
    "    return files"
   ]
  },
  {
   "cell_type": "code",
   "execution_count": 181,
   "metadata": {},
   "outputs": [],
   "source": [
    "def sanitize(INPUT_PATH):\n",
    "    ds =  {'file': [],'class': [],'duration':[], 'sr':[]}\n",
    "    for f in Path(INPUT_PATH).glob(\"**/*.wav\"):\n",
    "        ds['file'].append(f)\n",
    "        f =  str(f)\n",
    "        y,sr =  librosa.load(f, sr=None)\n",
    "        ds['duration'].append((1/sr) * len(y))\n",
    "        ds['sr'].append(sr)\n",
    "        clx = f[f.rfind(\"/\")+12:][:f[f.rfind(\"/\")+12:].index('_')]\n",
    "        if(len(clx) > 3):\n",
    "            ds['class'].append(clx.split('-')[0])\n",
    "        else:\n",
    "            ds['class'].append(clx)\n",
    "    data =  pd.DataFrame(ds)\n",
    "    df  = data[data['class'].map(data['class'].value_counts()) > 150]\n",
    "    return df"
   ]
  },
  {
   "cell_type": "code",
   "execution_count": 3,
   "id": "71ecae27",
   "metadata": {},
   "outputs": [],
   "source": [
    "files =  get_files(BASE_DIR)"
   ]
  },
  {
   "cell_type": "code",
   "execution_count": 182,
   "metadata": {},
   "outputs": [],
   "source": [
    "df =  sanitize(BASE_DIR)"
   ]
  },
  {
   "cell_type": "code",
   "execution_count": 183,
   "metadata": {},
   "outputs": [
    {
     "output_type": "execute_result",
     "data": {
      "text/plain": "kub     1805\nwoo     1092\nrom      928\nuta      650\njac      526\nish      389\nsum      351\njul      337\nkin      166\nKuba     163\nName: class, dtype: int64"
     },
     "metadata": {},
     "execution_count": 183
    }
   ],
   "source": [
    "df['class'].value_counts()"
   ]
  },
  {
   "cell_type": "code",
   "execution_count": 185,
   "metadata": {},
   "outputs": [],
   "source": [
    "df.to_csv(selected_path,index=False)"
   ]
  },
  {
   "cell_type": "code",
   "execution_count": 277,
   "metadata": {},
   "outputs": [],
   "source": [
    "df =  pd.read_csv(selected_path)"
   ]
  },
  {
   "cell_type": "code",
   "execution_count": 280,
   "metadata": {},
   "outputs": [
    {
     "output_type": "execute_result",
     "data": {
      "text/plain": "                                                file class  duration     sr\n0  /net/projects/scratch/winter/valid_until_31_Ju...   kub  2.000000  44100\n1  /net/projects/scratch/winter/valid_until_31_Ju...   ish  1.189002  44100\n2  /net/projects/scratch/winter/valid_until_31_Ju...   ish  2.000000  44100\n3  /net/projects/scratch/winter/valid_until_31_Ju...   ish  2.000000  44100\n4  /net/projects/scratch/winter/valid_until_31_Ju...   ish  2.000000  44100",
      "text/html": "<div>\n<style scoped>\n    .dataframe tbody tr th:only-of-type {\n        vertical-align: middle;\n    }\n\n    .dataframe tbody tr th {\n        vertical-align: top;\n    }\n\n    .dataframe thead th {\n        text-align: right;\n    }\n</style>\n<table border=\"1\" class=\"dataframe\">\n  <thead>\n    <tr style=\"text-align: right;\">\n      <th></th>\n      <th>file</th>\n      <th>class</th>\n      <th>duration</th>\n      <th>sr</th>\n    </tr>\n  </thead>\n  <tbody>\n    <tr>\n      <th>0</th>\n      <td>/net/projects/scratch/winter/valid_until_31_Ju...</td>\n      <td>kub</td>\n      <td>2.000000</td>\n      <td>44100</td>\n    </tr>\n    <tr>\n      <th>1</th>\n      <td>/net/projects/scratch/winter/valid_until_31_Ju...</td>\n      <td>ish</td>\n      <td>1.189002</td>\n      <td>44100</td>\n    </tr>\n    <tr>\n      <th>2</th>\n      <td>/net/projects/scratch/winter/valid_until_31_Ju...</td>\n      <td>ish</td>\n      <td>2.000000</td>\n      <td>44100</td>\n    </tr>\n    <tr>\n      <th>3</th>\n      <td>/net/projects/scratch/winter/valid_until_31_Ju...</td>\n      <td>ish</td>\n      <td>2.000000</td>\n      <td>44100</td>\n    </tr>\n    <tr>\n      <th>4</th>\n      <td>/net/projects/scratch/winter/valid_until_31_Ju...</td>\n      <td>ish</td>\n      <td>2.000000</td>\n      <td>44100</td>\n    </tr>\n  </tbody>\n</table>\n</div>"
     },
     "metadata": {},
     "execution_count": 280
    }
   ],
   "source": [
    "df.head()"
   ]
  },
  {
   "cell_type": "code",
   "execution_count": 281,
   "metadata": {},
   "outputs": [
    {
     "output_type": "execute_result",
     "data": {
      "text/plain": "kub     1805\nwoo     1092\nrom      928\nuta      650\njac      526\nish      389\nsum      351\njul      337\nkin      166\nKuba     163\nName: class, dtype: int64"
     },
     "metadata": {},
     "execution_count": 281
    }
   ],
   "source": [
    "CLASSES =  "
   ]
  },
  {
   "cell_type": "code",
   "execution_count": 291,
   "metadata": {},
   "outputs": [],
   "source": [
    "CLASSES = ['kub','woo','rom','uta','jac','ish','sum','jul','kin','Kuba']"
   ]
  },
  {
   "cell_type": "code",
   "execution_count": 301,
   "metadata": {},
   "outputs": [
    {
     "output_type": "error",
     "ename": "SyntaxError",
     "evalue": "invalid syntax (<ipython-input-301-001a713f8d8c>, line 1)",
     "traceback": [
      "\u001b[0;36m  File \u001b[0;32m\"<ipython-input-301-001a713f8d8c>\"\u001b[0;36m, line \u001b[0;32m1\u001b[0m\n\u001b[0;31m    ds =  {'data': [],'class': []ael':  [], 'sr': []}\u001b[0m\n\u001b[0m                                 ^\u001b[0m\n\u001b[0;31mSyntaxError\u001b[0m\u001b[0;31m:\u001b[0m invalid syntax\n"
     ]
    }
   ],
   "source": [
    "ds =  {'data': [],'class': []ael':  [], 'sr': []}\n",
    "max_idx = df[df['duration'] == df['duration'].max()].index\n",
    "if(len(max_idx) > 1):\n",
    "    max_idx =  max_idx[0]\n",
    "r = df.iloc[max_idx]\n",
    "filename = r['file']\n",
    "ymax,sr = librosa.load(filename, sr=r['sr'])\n",
    "for k in range(df.shape[0]):\n",
    "    r = df.iloc[k]\n",
    "    y,sr = librosa.load(r['file'], sr=r['sr'])\n",
    "    dff =  int(np.ceil( len(ymax) - len(y) ) / 2)\n",
    "    a  = np.lib.pad(y, (int(np.floor(dff)) ,), 'symmetric')\n",
    "    ds['data'].append(a)\n",
    "    ds['class'].append(CLASSES.index(r['class']))\n",
    "    ds['sr'].        \n",
    "\n",
    ""
   ]
  },
  {
   "cell_type": "code",
   "execution_count": null,
   "metadata": {},
   "outputs": [],
   "source": []
  },
  {
   "cell_type": "code",
   "execution_count": null,
   "metadata": {},
   "outputs": [],
   "source": []
  }
 ],
 "metadata": {
  "kernelspec": {
   "display_name": "Python 3",
   "language": "python",
   "name": "python3"
  },
  "language_info": {
   "codemirror_mode": {
    "name": "ipython",
    "version": 3
   },
   "file_extension": ".py",
   "mimetype": "text/x-python",
   "name": "python",
   "nbconvert_exporter": "python",
   "pygments_lexer": "ipython3",
   "version": "3.9.7-final"
  }
 },
 "nbformat": 4,
 "nbformat_minor": 5
}